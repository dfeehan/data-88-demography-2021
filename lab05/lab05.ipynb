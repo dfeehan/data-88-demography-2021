{
 "cells": [
  {
   "cell_type": "code",
   "execution_count": null,
   "id": "quick-advancement",
   "metadata": {
    "deletable": false,
    "editable": false
   },
   "outputs": [],
   "source": [
    "# Initialize Otter\n",
    "import otter\n",
    "grader = otter.Notebook(\"lab05.ipynb\")"
   ]
  },
  {
   "cell_type": "code",
   "execution_count": 1,
   "metadata": {},
   "outputs": [],
   "source": [
    "from IPython.core.display import HTML\n",
    "from datascience import *\n",
    "\n",
    "import matplotlib\n",
    "matplotlib.use('Agg')\n",
    "%matplotlib inline\n",
    "import matplotlib.pyplot as plt\n",
    "import numpy as np\n",
    "import os\n",
    "plt.style.use('fivethirtyeight')\n",
    "\n",
    "import pandas as pd\n",
    "import zipfile\n",
    "import io\n",
    "import math"
   ]
  },
  {
   "cell_type": "markdown",
   "metadata": {},
   "source": [
    "# Lab 05 - Projections and a first look at formal demography"
   ]
  },
  {
   "cell_type": "markdown",
   "metadata": {},
   "source": [
    "Today we're going to be taking a look at *formal demography* -- the mathematical theory of relationships that govern population structure and change.  In a course devoted to demographic methods, you would learn about these relationships mathematically.  Today, we're going to adopt a more experimental approach: I'll provide you with some tools that you can use to explore how populations change over time and you can see for yourself what kind of patterns emerge. By looking at population projections, we'll see some illustrations of formal demography in action.\n",
    "\n",
    "We'll touch on a few key concepts over the course of the day:\n",
    "\n",
    "* age distributions - what is the age-composition of a population? How does this seem to change over time?\n",
    "* projections - if we assume that fertility and mortality rates don't change, we can predict how the population will change over time\n",
    "* stability - if fertility and mortality rates hold steady for a long time, does the population settle down?"
   ]
  },
  {
   "cell_type": "markdown",
   "metadata": {},
   "source": [
    "Here are a few things to bear in mind as we explore;\n",
    "\n",
    "* we'll use simulation in place of math, but if you are curious about how this all works, there is a lot of theory underlying the relationships we'll look at today\n",
    "* we'll focus on a female-only populations, to keep things fairly simple\n",
    "* in a couple of cases, we're simplifying things a little bit. So the results we'll calculate today won't be quite as accurate as projections produced by the UN or the Census Bureau. But we'll get the big picture ideas right\n"
   ]
  },
  {
   "cell_type": "markdown",
   "metadata": {},
   "source": [
    "## Introductions"
   ]
  },
  {
   "cell_type": "markdown",
   "metadata": {
    "deletable": false,
    "editable": false
   },
   "source": [
    "<!-- BEGIN QUESTION -->\n",
    "\n",
    "**What is your partner's name?**\n",
    "<!--\n",
    "BEGIN QUESTION\n",
    "name: q_introname\n",
    "points: 1\n",
    "manual: True\n",
    "-->"
   ]
  },
  {
   "cell_type": "markdown",
   "id": "quarterly-sharp",
   "metadata": {},
   "source": [
    "_Type your answer here, replacing this text._"
   ]
  },
  {
   "cell_type": "markdown",
   "metadata": {
    "deletable": false,
    "editable": false
   },
   "source": [
    "<!-- END QUESTION -->\n",
    "\n",
    "<!-- BEGIN QUESTION -->\n",
    "\n",
    "**What year is your partner in? (Freshman, Sophomore, etc)**\n",
    "<!--\n",
    "BEGIN QUESTION\n",
    "name: q_introyear\n",
    "points: 1\n",
    "manual: True\n",
    "-->"
   ]
  },
  {
   "cell_type": "markdown",
   "id": "powerful-refrigerator",
   "metadata": {},
   "source": [
    "_Type your answer here, replacing this text._"
   ]
  },
  {
   "cell_type": "markdown",
   "metadata": {
    "deletable": false,
    "editable": false
   },
   "source": [
    "<!-- END QUESTION -->\n",
    "\n",
    "<!-- BEGIN QUESTION -->\n",
    "\n",
    "**What is your partner's favorite food?**\n",
    "<!--\n",
    "BEGIN QUESTION\n",
    "name: q_introfood\n",
    "points: 1\n",
    "manual: True\n",
    "-->"
   ]
  },
  {
   "cell_type": "markdown",
   "id": "false-reminder",
   "metadata": {},
   "source": [
    "_Type your answer here, replacing this text._"
   ]
  },
  {
   "cell_type": "markdown",
   "metadata": {},
   "source": [
    "<!-- END QUESTION -->\n",
    "\n",
    "\n",
    "\n",
    "## Projections: combining mortality and fertility"
   ]
  },
  {
   "cell_type": "markdown",
   "metadata": {},
   "source": [
    "Today, we're going to work with several different types of data:\n",
    "\n",
    "* life tables - which have information about mortality\n",
    "* fertility rates - which tell us about reproduction\n",
    "* population counts - which tell us about age distributions\n",
    "\n",
    "We'll start by opening these datasets up."
   ]
  },
  {
   "cell_type": "markdown",
   "metadata": {},
   "source": [
    "First we'll open up the UNPD life tables"
   ]
  },
  {
   "cell_type": "code",
   "execution_count": 2,
   "metadata": {},
   "outputs": [],
   "source": [
    "unpd_lt = Table.read_table('data/unpd_life_tables_cleaned.csv')\n",
    "unpd_lt"
   ]
  },
  {
   "cell_type": "markdown",
   "metadata": {},
   "source": [
    "This function will help us read life tables in as we need them. You can see how it's used below."
   ]
  },
  {
   "cell_type": "code",
   "execution_count": 3,
   "metadata": {},
   "outputs": [],
   "source": [
    "def get_lt(country, period, sex='female'):\n",
    "    \"\"\"\n",
    "    This function reads in the life table data for a given country and time period.\n",
    "    \"\"\"\n",
    "    lt_data = unpd_lt.where('area', country).where('period', period).where('sex', sex)\n",
    "    return(lt_data.sort('age'))\n",
    "\n",
    "get_lt('France', 2010, 'female').show()"
   ]
  },
  {
   "cell_type": "markdown",
   "metadata": {},
   "source": [
    "Next, we'll read in age-specific fertility data"
   ]
  },
  {
   "cell_type": "code",
   "execution_count": 4,
   "metadata": {},
   "outputs": [],
   "source": [
    "unpd_asfr = Table.read_table('data/unpd_asfr_cleaned.csv')\n",
    "unpd_asfr"
   ]
  },
  {
   "cell_type": "markdown",
   "metadata": {},
   "source": [
    "This function will help us read in the age-specific fertility rates for a given country and time period.  You can see how it's used below."
   ]
  },
  {
   "cell_type": "code",
   "execution_count": 5,
   "metadata": {},
   "outputs": [],
   "source": [
    "def get_asfr(country, period):\n",
    "    asfr_data = unpd_asfr.where('area', country).where('period', period)\n",
    "    # rescale rates (which are listed per 1,000 in the UNPD data)\n",
    "    asfr_data = asfr_data.with_column('asfr', asfr_data['asfr']/1000)\n",
    "    return(asfr_data.sort('age'))\n",
    "\n",
    "get_asfr('France', 2010)"
   ]
  },
  {
   "cell_type": "markdown",
   "metadata": {},
   "source": [
    "Finally, we'll open up a dataset with estimated female population counts by age and time period:"
   ]
  },
  {
   "cell_type": "code",
   "execution_count": 6,
   "metadata": {},
   "outputs": [],
   "source": [
    "unpd_pop = Table.read_table('data/unpd_f_pop_byage_cleaned.csv')\n",
    "unpd_pop"
   ]
  },
  {
   "cell_type": "markdown",
   "metadata": {},
   "source": [
    "... and this function will help us read in the female population distributions by age for a given country and time period.  You can see how it's used below."
   ]
  },
  {
   "cell_type": "code",
   "execution_count": 7,
   "metadata": {},
   "outputs": [],
   "source": [
    "def get_pop(country, reference_date):\n",
    "    raw_dat = unpd_pop.where('area', country).where('reference_date', reference_date)\n",
    "    return(raw_dat)\n",
    "\n",
    "get_pop('France', 2015).show()"
   ]
  },
  {
   "cell_type": "markdown",
   "metadata": {},
   "source": [
    "Here's one last helper function that will save us some time later. It gives us an `np.array` that has the number of women by age in a given country and year. We'll see that sometimes this is more useful than having a table."
   ]
  },
  {
   "cell_type": "code",
   "execution_count": 8,
   "metadata": {},
   "outputs": [],
   "source": [
    "def get_pop_vec(country, reference_date):\n",
    "    dat = get_pop(country, reference_date)\n",
    "    \n",
    "    # collapse last two age groups to get 75+ to match our Leslie matrices\n",
    "    pop_vec = dat.column('f_population')\n",
    "    \n",
    "    return(pop_vec)\n",
    "\n",
    "get_pop_vec('France', 2015)"
   ]
  },
  {
   "cell_type": "markdown",
   "metadata": {},
   "source": [
    "It will also be helpful here and there to have a list of all of the possible ages. Remember that we're working with 5-year age groups. So, for example, the group '35' is actually people aged 35-39.9999. Remember also that the last age interval is 'open': it's 80+, not just 80-84."
   ]
  },
  {
   "cell_type": "code",
   "execution_count": 9,
   "metadata": {},
   "outputs": [],
   "source": [
    "all_ages = np.unique(unpd_pop['age'])\n",
    "all_ages"
   ]
  },
  {
   "cell_type": "markdown",
   "metadata": {},
   "source": [
    "## Looking at age distributions"
   ]
  },
  {
   "cell_type": "markdown",
   "metadata": {},
   "source": [
    "We've talked about how important it is to think about how demographic changes -- such as death and fertility -- vary by age. This is because these phenomena are strongly related to age: people are much more likely to die as they age, and women have babies at young to middle ages, but not before or after.\n",
    "\n",
    "We haven't really talked much about actual age distributions yet, so we'll spend a fair amount of time focusing on age distributions in this lab. We'll start by developing some intution by plotting a few age distributions."
   ]
  },
  {
   "cell_type": "markdown",
   "metadata": {
    "deletable": false,
    "editable": false
   },
   "source": [
    "<!-- BEGIN QUESTION -->\n",
    "\n",
    "**Question - Fill in the code below to plot the age distribution of females in Italy in 2015**\n",
    "<!--\n",
    "BEGIN QUESTION\n",
    "name: q_plot_age_distn\n",
    "points: 4\n",
    "manual: true\n",
    "-->"
   ]
  },
  {
   "cell_type": "code",
   "execution_count": 10,
   "metadata": {},
   "outputs": [],
   "source": [
    "country = 'Italy'\n",
    "period = 2015\n",
    "\n",
    "italy_ages_2015 = get_pop_vec(..., ...)\n",
    "\n",
    "Table().with_columns('age', ...,\n",
    "                     'pop', ...).bar('age')\n",
    "plt.title(country + \" (\" + str(period) + \")\");"
   ]
  },
  {
   "cell_type": "markdown",
   "metadata": {},
   "source": [
    "<!-- END QUESTION -->\n",
    "\n",
    "\n",
    "\n",
    "**Question - Pick four more countries that you expect to be very different from one another and plot their age distributions**"
   ]
  },
  {
   "cell_type": "code",
   "execution_count": 11,
   "metadata": {},
   "outputs": [],
   "source": [
    "...\n",
    "...\n",
    "...\n",
    "..."
   ]
  },
  {
   "cell_type": "markdown",
   "metadata": {},
   "source": [
    "It would be helpful to have a number that can be used to summarize age distributions.  There are lots of different numbers that could be used to do this."
   ]
  },
  {
   "cell_type": "markdown",
   "metadata": {
    "deletable": false,
    "editable": false
   },
   "source": [
    "<!-- BEGIN QUESTION -->\n",
    "\n",
    "**Question - Suggest one measure you could use to help summarize the distribution of ages in a population.**\n",
    "<!--\n",
    "BEGIN QUESTION\n",
    "name: q_age_distn_comment\n",
    "points: 1\n",
    "manual: true\n",
    "-->"
   ]
  },
  {
   "cell_type": "markdown",
   "id": "indian-while",
   "metadata": {},
   "source": [
    "_Type your answer here, replacing this text._"
   ]
  },
  {
   "cell_type": "markdown",
   "metadata": {},
   "source": [
    "<!-- END QUESTION -->\n",
    "\n",
    "\n",
    "\n",
    "We'll use the average age of the population as a way to summarize its age structure. We'll make this easy to do by writing a function to calcualte the average age."
   ]
  },
  {
   "cell_type": "markdown",
   "metadata": {
    "deletable": false,
    "editable": false
   },
   "source": [
    "**Question - Fill in the code below to calculate the average age.**  \n",
    "*[NOTE: In the code below, we treat people in each age interval as having an average age halfway through the interval. So people in age interval 10-15 are treated as though they have average age 12.5. We treat the average age in the 80+ interval as 82.5]*\n",
    "<!--\n",
    "BEGIN QUESTION\n",
    "name: q_calc_mean_age\n",
    "points: 2\n",
    "-->"
   ]
  },
  {
   "cell_type": "code",
   "execution_count": 12,
   "metadata": {},
   "outputs": [],
   "source": [
    "def calc_mean_age(pop_vec):\n",
    "    mid_ages = np.arange(start=2.5, stop=87.5, step=5)\n",
    "    return(np.sum(...)/np.sum(...))\n",
    "\n",
    "ima = calc_mean_age(italy_ages_2015)\n",
    "ima"
   ]
  },
  {
   "cell_type": "code",
   "execution_count": null,
   "id": "consistent-semester",
   "metadata": {
    "deletable": false,
    "editable": false
   },
   "outputs": [],
   "source": [
    "grader.check(\"q_calc_mean_age\")"
   ]
  },
  {
   "cell_type": "markdown",
   "metadata": {},
   "source": [
    "You should get an average age of about 45.998 for Italian women in 2015."
   ]
  },
  {
   "cell_type": "markdown",
   "metadata": {
    "deletable": false,
    "editable": false
   },
   "source": [
    "**Question - Fill in the code below to calculate the average age of Italian women over all of the periods in the dataset**\n",
    "<!--\n",
    "BEGIN QUESTION\n",
    "name: q_calc_italy_avg_age\n",
    "points: 1\n",
    "-->"
   ]
  },
  {
   "cell_type": "code",
   "execution_count": 14,
   "metadata": {},
   "outputs": [],
   "source": [
    "all_years = np.unique(unpd_pop['reference_date'])\n",
    "\n",
    "avg_ages = make_array()\n",
    "\n",
    "for year in ...:\n",
    "    avg_ages = np.append(avg_ages,\n",
    "                         ...)\n",
    "    \n",
    "italy_ages = Table().with_columns('year', ...,\n",
    "                                  'average_age', ...)"
   ]
  },
  {
   "cell_type": "code",
   "execution_count": null,
   "id": "military-object",
   "metadata": {
    "deletable": false,
    "editable": false
   },
   "outputs": [],
   "source": [
    "grader.check(\"q_calc_italy_avg_age\")"
   ]
  },
  {
   "cell_type": "markdown",
   "metadata": {},
   "source": [
    "**Question: Plot the resulting time-trend in average age**"
   ]
  },
  {
   "cell_type": "code",
   "execution_count": 16,
   "metadata": {},
   "outputs": [],
   "source": [
    "..."
   ]
  },
  {
   "cell_type": "markdown",
   "metadata": {},
   "source": [
    "**Question - Take the code you wrote above and make it into a function that you can use to plot the time-trend in average population age for any country.**"
   ]
  },
  {
   "cell_type": "code",
   "execution_count": 17,
   "metadata": {},
   "outputs": [],
   "source": [
    "def plot_average_ages(country):\n",
    "    \n",
    "    ...\n",
    "    ...\n",
    "    ...\n",
    "    \n",
    "plot_average_ages('France')"
   ]
  },
  {
   "cell_type": "markdown",
   "metadata": {},
   "source": [
    "**Question - Look at the trend in average age for the four countries whose age distributions you examined above**"
   ]
  },
  {
   "cell_type": "code",
   "execution_count": 18,
   "metadata": {},
   "outputs": [],
   "source": [
    "...\n",
    "...\n",
    "...\n",
    "..."
   ]
  },
  {
   "cell_type": "markdown",
   "metadata": {
    "deletable": false,
    "editable": false
   },
   "source": [
    "<!-- BEGIN QUESTION -->\n",
    "\n",
    "**Question - What trends do you notice to countries' average ages over time? Do you see any exceptions to this trend?**\n",
    "<!--\n",
    "BEGIN QUESTION\n",
    "name: q_comment_average_ages\n",
    "points: 1\n",
    "manual: True\n",
    "-->"
   ]
  },
  {
   "cell_type": "markdown",
   "id": "based-whole",
   "metadata": {},
   "source": [
    "_Type your answer here, replacing this text._"
   ]
  },
  {
   "cell_type": "markdown",
   "metadata": {},
   "source": [
    "<!-- END QUESTION -->\n",
    "\n",
    "\n",
    "\n",
    "### Normalizing age distributions"
   ]
  },
  {
   "cell_type": "markdown",
   "metadata": {},
   "source": [
    "In many cases, we will want to focus on the relative size of age groups, rather than the actual number of people at each age. When we are concerned only about distribution across ages and not population size, it can be helpful to *normalize* the age distribution. This means we divide the number of people in each age group by the total population. We end up with the fraction of people in each age group, with all of the fractions summing up to 1.  Thus, a normalized age distribution shows us the relative size of each age group without showing population size.\n",
    "\n",
    "We'll write a function to help us quickly normalize age distributions."
   ]
  },
  {
   "cell_type": "markdown",
   "metadata": {
    "deletable": false,
    "editable": false
   },
   "source": [
    "**Question - Fill in the code below to normalize an age distribution.**  \n",
    "*[HINT:  You should assume that `pops` is an `np.array` with the number of people per age group, such as would be returned from `get_pop_vec`*]\n",
    "<!--\n",
    "BEGIN QUESTION\n",
    "name: q_normalize_distn_fn\n",
    "points: 2\n",
    "-->"
   ]
  },
  {
   "cell_type": "code",
   "execution_count": 19,
   "metadata": {},
   "outputs": [],
   "source": [
    "def normalize_distn(pops):\n",
    "    return(...)\n",
    "\n",
    "n_italy_2015 = get_pop_vec('Italy', 2015)\n",
    "print('un-normalized: ', n_italy_2015)\n",
    "n_italy_norm = normalize_distn(n_italy_2015)\n",
    "print('normalized: ', n_italy_norm)"
   ]
  },
  {
   "cell_type": "code",
   "execution_count": null,
   "id": "distinguished-reform",
   "metadata": {
    "deletable": false,
    "editable": false
   },
   "outputs": [],
   "source": [
    "grader.check(\"q_normalize_distn_fn\")"
   ]
  },
  {
   "cell_type": "markdown",
   "metadata": {},
   "source": [
    "**Question - Now calculate and then plot the normalized age distribution for Italian women in 2015, and check that it has the same shape as the plot you made above**"
   ]
  },
  {
   "cell_type": "code",
   "execution_count": 21,
   "metadata": {},
   "outputs": [],
   "source": [
    "country = 'Italy'\n",
    "period = 2015\n",
    "\n",
    "n_italy_2015_norm = ...\n",
    "\n",
    "Table().with_columns('age', all_ages,\n",
    "                     'pop', ...).bar('age')\n",
    "plt.title(country + \" (\" + str(period) + \")\");"
   ]
  },
  {
   "cell_type": "markdown",
   "metadata": {},
   "source": [
    "Note that normalizing the age distribution does not affect the average age. To see for yourself, check out the following examples:"
   ]
  },
  {
   "cell_type": "code",
   "execution_count": 22,
   "metadata": {},
   "outputs": [],
   "source": [
    "calc_mean_age(n_italy_2015)"
   ]
  },
  {
   "cell_type": "code",
   "execution_count": 23,
   "metadata": {},
   "outputs": [],
   "source": [
    "calc_mean_age(n_italy_2015_norm)"
   ]
  },
  {
   "cell_type": "markdown",
   "metadata": {},
   "source": [
    "## Projections"
   ]
  },
  {
   "cell_type": "markdown",
   "metadata": {},
   "source": [
    "Now that we have a little experience with age distributions, we are in a position to start to learna a little bit about population projections. A population projections can be made if you have\n",
    "\n",
    "1. a set of mortality rates\n",
    "2. a set of fertility rates\n",
    "3. a starting population\n",
    "\n",
    "We won't go into the technical details, but the intuition is fairly simple: the fertility rates tell you how many people will enter the population at age 0, and the mortality rates tell you how many people leave the population at eage age. By knowing how many people start at each age, figuring out how many babies they produce (from fertility rates), and figuring out how many of them die (from mortality rates), you can project how many population members there will be in each age group in the future. By repeating this process over and over, you can project the population far into the future. (To do this, though, you have to assume that you know what mortality and fertility rates will be far into the future.)\n",
    "\n",
    "Mathematically, we'll use a projection technique based on a **Leslie matrix**. For our purposes, we'll treat this as a kind of black box. If you are curious, the [Wikipedia page for Leslie matrices](https://en.wikipedia.org/wiki/Leslie_matrix) has a little more info. For the truly curious, a text on demography or population biology will have a lot more detail.\n",
    "\n",
    "For the time being, we'll read in this rather long function that will give us a Leslie matrix based on the UNPD life table and fertility rates for a particular country and time period."
   ]
  },
  {
   "cell_type": "code",
   "execution_count": 24,
   "metadata": {
    "scrolled": true
   },
   "outputs": [],
   "source": [
    "def make_leslie_matrix(country, period):\n",
    "\n",
    "    \"\"\"\n",
    "    This function was designed to keep things (fairly) simple, and to work with the UNPD data\n",
    "    we're using in the connector class.\n",
    "    \n",
    "    We'll project populations up to 75+, since that is easiest with the age group info that UNPD provides.\n",
    "    \"\"\"\n",
    "    \n",
    "    lt = get_lt(country, period, 'female')\n",
    "    asfr = get_asfr(country, period)\n",
    "    \n",
    "    # we'll collapse the youngest two age groups\n",
    "    # AND the oldest two age groups, so the number of age groups in the Leslie matrix\n",
    "    # will be 2 fewer than the number of rows in the life table\n",
    "    num_ages = lt.num_rows - 2\n",
    "    leslie_mat = np.zeros(shape=(num_ages, num_ages))\n",
    "    \n",
    "    ##############################\n",
    "    ## calculate survivorship (subdiagonal of Leslie matrix)\n",
    "    ##############################\n",
    "    \n",
    "    # the first two age groups are not five years wide, but 1 and 4 years wide respectively\n",
    "    # since cohort-component projections require equal-sized age intervals, \n",
    "    # we'll collapse these into one 5-year interval    \n",
    "    lt_L_collapsed = lt['L'][2:-1]\n",
    "    lt_L_collapsed = np.append((lt['L'][0] + lt['L'][1]), lt_L_collapsed)\n",
    "    \n",
    "    # survivorship from one age group to next\n",
    "    lt_L_survivorship = lt_L_collapsed[1:] / lt_L_collapsed[:-1]\n",
    "    \n",
    "    # we only need \n",
    "    lt_L_survivorship = lt_L_survivorship[:(num_ages-1)]\n",
    "\n",
    "    # survival for the last (open) age interval\n",
    "    # (for UNPD life tables, this will be survivorship for 75+)\n",
    "    # we'll use T80/T75\n",
    "    lt_L_survivorship_open = np.sum(lt_L_collapsed[-2:])/np.sum(lt_L_collapsed[-3:])\n",
    "    \n",
    "    # T85/T80, since the highest age group we'll use is 75-80\n",
    "    # NOTE: we're collapsing to 80+, instead of 85+, to match the population distributions we have\n",
    "    lt_L_ratio_open = lt_L_collapsed[-3] / np.sum(lt_L_collapsed[-3:])\n",
    "\n",
    "    # survivorships go along the subdiagonal of the leslie matrix\n",
    "    indexes = np.diag_indices_from(leslie_mat)\n",
    "    subdiag_indexes = (indexes[0][1:], indexes[1][:-1])\n",
    "    \n",
    "    leslie_mat[subdiag_indexes] = lt_L_survivorship\n",
    "    \n",
    "    # and the bottom-right corner or the survivorship matrix has the open age interval survivorship\n",
    "    leslie_mat[(-1,-1)] = lt_L_ratio_open\n",
    "    \n",
    "    ##############################\n",
    "    ## calculate net maternity (first row of Leslie matrix)\n",
    "    ##############################\n",
    "    \n",
    "    # approx fraction births that is female (from Wachter)\n",
    "    fab = 0.4886\n",
    "    \n",
    "    # get radix of life table\n",
    "    radix = lt.sort('age').column('l').item(0)\n",
    "    \n",
    "    # get nL0 value from life table\n",
    "    # (note that this is the sum of the first two entries, which are ages 0-1 and 1-5)\n",
    "    nL0 = lt_L_collapsed[0]\n",
    "\n",
    "    # get the indices for the life table L values that correspond to\n",
    "    # ages with nonzero fertility\n",
    "    fage_L_idx = np.where(np.isin(lt['age'], asfr['age']))\n",
    "    # ... and we need L values one beyond the highest fertility age\n",
    "    # ... this are shifted by -1 because we collapsed the first two age groups\n",
    "    fage_L_idx = np.arange(start=np.min(fage_L_idx)-1, stop=np.max(fage_L_idx)+1)\n",
    "    \n",
    "    # extract the life table L values corresponding to nonzero fertility\n",
    "    fage_L = lt_L_collapsed[fage_L_idx]\n",
    "\n",
    "    # survival from one age interval to next corresponding \n",
    "    # to ages with nonzero fertility\n",
    "    fage_surv = fage_L[1:]/fage_L[:-1]\n",
    "    \n",
    "    # row-vector of fertilities, with 0s filled in\n",
    "    fert = np.zeros(shape=(num_ages,))\n",
    "    \n",
    "    fert[fage_L_idx[:-1]] = asfr.sort('age').column('asfr')\n",
    "\n",
    "    ## see formula in, eg, Wachter pg 107 or Preston et al pg 130\n",
    "    k = fab * (1/2) * (nL0/radix)\n",
    "\n",
    "    # fertility from younger age group surviving forward and spending half time in new age group\n",
    "    first_term = np.append(fert[1:] * lt_L_survivorship, 0.0)\n",
    "    # fertility from older age group before surviving up to next age group\n",
    "    second_term = fert\n",
    "    \n",
    "    A = k * (first_term + second_term)\n",
    "\n",
    "    # helpful for debugging\n",
    "    #print('fert:', fert)\n",
    "    #print('==================================')\n",
    "    #print('lt_L_survivorship:', lt_L_survivorship)\n",
    "    #print('==================================')\n",
    "    #print('first_term: ', first_term)\n",
    "    #print('==================================')    \n",
    "    #print('second_term: ', second_term)\n",
    "    #print('==================================')\n",
    "    #print('k: ', k)\n",
    "    #print('==================================')         \n",
    "    #print('A:', A)\n",
    "    \n",
    "    # net maternities along the top row\n",
    "    leslie_mat[0] = A\n",
    "    \n",
    "    return(leslie_mat)\n",
    "\n",
    "lmat = make_leslie_matrix('France', 2010)\n",
    "\n",
    "# helpful for debugging - print a matrix out nicely\n",
    "#for x in lmat:\n",
    "#    for y in x:\n",
    "#        print(\"%1.3f\" % round(y,3), end =\" \")\n",
    "#    print(\"\\n\")"
   ]
  },
  {
   "cell_type": "markdown",
   "metadata": {},
   "source": [
    "In order to actually make use of the Leslie matrix, here's a function that takes as its input an array of population counts by age, `pop`, like the one that would be returned by `get_pop_vec`:"
   ]
  },
  {
   "cell_type": "code",
   "execution_count": 25,
   "metadata": {},
   "outputs": [],
   "source": [
    "def project(pop, leslie_matrix):\n",
    "    new_pop = np.dot(leslie_matrix, pop)\n",
    "    return(new_pop)"
   ]
  },
  {
   "cell_type": "markdown",
   "metadata": {},
   "source": [
    "Here's an example of `project` in action. First we get the population of Italian women in 2015:"
   ]
  },
  {
   "cell_type": "code",
   "execution_count": 26,
   "metadata": {},
   "outputs": [],
   "source": [
    "n_italy_2015 = get_pop_vec('Italy', 2015)\n",
    "print('Starting population: ', n_italy_2015)"
   ]
  },
  {
   "cell_type": "markdown",
   "metadata": {},
   "source": [
    "Then we calculate the Leslie matrix based on the fertility and mortality rates of Italian women in 2015:"
   ]
  },
  {
   "cell_type": "code",
   "execution_count": 27,
   "metadata": {},
   "outputs": [],
   "source": [
    "italy_lm = make_leslie_matrix('Italy', 2015)"
   ]
  },
  {
   "cell_type": "markdown",
   "metadata": {},
   "source": [
    "Finally, we project the popualtion of Italian women in 2015 forward one time step using the `project` function and the Leslie matrix for Italian women in 2015:"
   ]
  },
  {
   "cell_type": "code",
   "execution_count": 28,
   "metadata": {},
   "outputs": [],
   "source": [
    "projected_italy = project(n_italy_2015, italy_lm)\n",
    "\n",
    "print('Projected population: ', projected_italy)"
   ]
  },
  {
   "cell_type": "markdown",
   "metadata": {},
   "source": [
    "If you compare to the original population, you'll see that the numbers have changed somewhat."
   ]
  },
  {
   "cell_type": "markdown",
   "metadata": {
    "deletable": false,
    "editable": false
   },
   "source": [
    "**Question - What happens when you project the population of Italian women in 2015 using the Leslie matrix for Indian women in 2015?**\n",
    "<!--\n",
    "BEGIN QUESTION\n",
    "name: q_italy_withindia\n",
    "points: 3\n",
    "-->"
   ]
  },
  {
   "cell_type": "code",
   "execution_count": 29,
   "metadata": {},
   "outputs": [],
   "source": [
    "india_lm = ...\n",
    "projected_italy_withindia = ...\n",
    "projected_italy_withindia"
   ]
  },
  {
   "cell_type": "code",
   "execution_count": null,
   "id": "african-burns",
   "metadata": {
    "deletable": false,
    "editable": false
   },
   "outputs": [],
   "source": [
    "grader.check(\"q_italy_withindia\")"
   ]
  },
  {
   "cell_type": "markdown",
   "metadata": {},
   "source": [
    "**Question - Do you get a bigger population using the Italian Leslie matrix (like we did above) or using the Indian Leslie matrix?**"
   ]
  },
  {
   "cell_type": "code",
   "execution_count": 31,
   "metadata": {},
   "outputs": [],
   "source": [
    "print(\"Projected popn size using Italian LM:\", ...)\n",
    "print(\"Projected popn size using Indian LM:\", ...)"
   ]
  },
  {
   "cell_type": "markdown",
   "metadata": {
    "deletable": false,
    "editable": false
   },
   "source": [
    "<!-- BEGIN QUESTION -->\n",
    "\n",
    "<!--\n",
    "BEGIN QUESTION\n",
    "name: q_comment_bigger_italian_indian\n",
    "points: 1\n",
    "manual: true\n",
    "-->"
   ]
  },
  {
   "cell_type": "markdown",
   "id": "athletic-dealer",
   "metadata": {},
   "source": [
    "_Type your answer here, replacing this text._"
   ]
  },
  {
   "cell_type": "markdown",
   "metadata": {},
   "source": [
    "<!-- END QUESTION -->\n",
    "\n",
    "\n",
    "\n",
    "Projections are often used to answer a hypothetical thought experiment: suppose that fertility and mortality rates stayed the same for a long time. What would happen to the size and structure of the population? (Note: in this case, 'structure' means 'age distribution')?\n",
    "\n",
    "We can answer this kind of question by projecting a starting population forward for many time steps. Let's give it a shot."
   ]
  },
  {
   "cell_type": "markdown",
   "metadata": {
    "deletable": false,
    "editable": false
   },
   "source": [
    "**Question - Fill in the code in the loop below to project the 2015 population of India forward 50 time steps**\n",
    "<!--\n",
    "BEGIN QUESTION\n",
    "name: q_project_india_50_timesteps\n",
    "points: 2\n",
    "-->"
   ]
  },
  {
   "cell_type": "code",
   "execution_count": 32,
   "metadata": {},
   "outputs": [],
   "source": [
    "country = 'India'\n",
    "period = 2015\n",
    "\n",
    "lmat = make_leslie_matrix(country, period)\n",
    "\n",
    "n0 = get_pop_vec(country, period)\n",
    "\n",
    "pop = make_array()\n",
    "\n",
    "n = n0\n",
    "\n",
    "num_reps = ...\n",
    "\n",
    "for i in np.arange(num_reps):\n",
    "    \n",
    "    n = ...\n",
    "    pop = np.append(pop, ...)\n",
    "    \n",
    "res = Table().with_columns('iteration', np.arange(num_reps),\n",
    "                           'popsize', pop)\n",
    "res\n",
    "res.plot('iteration')"
   ]
  },
  {
   "cell_type": "code",
   "execution_count": null,
   "id": "joint-perry",
   "metadata": {
    "deletable": false,
    "editable": false
   },
   "outputs": [],
   "source": [
    "grader.check(\"q_project_india_50_timesteps\")"
   ]
  },
  {
   "cell_type": "markdown",
   "metadata": {},
   "source": [
    "You should see that the population is steadily increasing in size over time."
   ]
  },
  {
   "cell_type": "markdown",
   "metadata": {
    "deletable": false,
    "editable": false
   },
   "source": [
    "<!-- BEGIN QUESTION -->\n",
    "\n",
    "**Question - Given the results above, what range would you expect the population growth rate $r$ to lie in? Do you think it is less than 0? 0? Or greater than 0?**\n",
    "<!--\n",
    "BEGIN QUESTION\n",
    "name: q_inda_50yrs_r_comment\n",
    "points: 2\n",
    "manual: true\n",
    "-->"
   ]
  },
  {
   "cell_type": "markdown",
   "id": "worse-arbitration",
   "metadata": {},
   "source": [
    "_Type your answer here, replacing this text._"
   ]
  },
  {
   "cell_type": "markdown",
   "metadata": {},
   "source": [
    "<!-- END QUESTION -->\n",
    "\n",
    "\n",
    "\n",
    "As it turns out, there is a beautiful theory that links population growth rates and the Leslie matrix. We can calculate the implied intrinsic growth rate from the Leslie matrix itself. This function will do that for us: we give this function a Leslie matrix, and it will return the growth rate:"
   ]
  },
  {
   "cell_type": "code",
   "execution_count": 34,
   "metadata": {},
   "outputs": [],
   "source": [
    "def get_growth_rate(lmat):\n",
    "    # dominant eigenvalue of the Leslie matrix, lambda_1, is the factor by which\n",
    "    # the population grows every 5 years\n",
    "    # so lambda_1 = exp(5r), where r is the intrinsic growth rate we defined before\n",
    "    # thus, r = log(lambda_1)/5\n",
    "    lambda_1 = np.real(np.max(np.linalg.eig(lmat)[0]))    \n",
    "    return(np.log(lambda_1)/5)"
   ]
  },
  {
   "cell_type": "markdown",
   "metadata": {},
   "source": [
    "**Question - Check your answer to the range of the growth rate for Indian females in 2015 by using the `get_growth_rate` function on the Leslie matrix for Indian women in 2015.**"
   ]
  },
  {
   "cell_type": "code",
   "execution_count": 35,
   "metadata": {},
   "outputs": [],
   "source": [
    "print('intrinsic growth rate r: ', ..., 'percent')"
   ]
  },
  {
   "cell_type": "markdown",
   "metadata": {},
   "source": [
    "(You should see a growth rate of about 0.35 percent.)"
   ]
  },
  {
   "cell_type": "markdown",
   "metadata": {},
   "source": [
    "Now we'll take the projection we wrote above, and we'll add to the code: we'll keep track of population size and the age distribution at each projection step. This is a little tricky, so we'll do most of the work for you. But see if you can figure out how the code below works."
   ]
  },
  {
   "cell_type": "markdown",
   "metadata": {},
   "source": [
    "First, we'll grab the Leslie matrix and the population distribution for India in 2015:"
   ]
  },
  {
   "cell_type": "code",
   "execution_count": 36,
   "metadata": {},
   "outputs": [],
   "source": [
    "country = 'India'\n",
    "period = 2015\n",
    "\n",
    "lmat = make_leslie_matrix(country, period)\n",
    "start_pop = get_pop_vec(country, period)"
   ]
  },
  {
   "cell_type": "markdown",
   "metadata": {},
   "source": [
    "Next, we'll intialize a Table that we'll use to store the results. The table will have columns:\n",
    "\n",
    "* iteration - the time step of the projection, starting at 0\n",
    "* size - the size of the population at the current time step\n",
    "* [0, ..., 80] - columns with the fraction of the population at the time step\n",
    "\n",
    "You can see the first row, with the starting population, after running the code below"
   ]
  },
  {
   "cell_type": "code",
   "execution_count": 37,
   "metadata": {},
   "outputs": [],
   "source": [
    "## intialize a Table to store our results\n",
    "## the Table will have a column for the iteration count\n",
    "## a column for the total size,\n",
    "## and then the normalized age distribution at each step\n",
    "pop = Table().with_columns('iteration', 0,\n",
    "                           'size', np.sum(n0))\n",
    "pop = pop.with_columns(zip([str(a) for a in all_ages], normalize_distn(start_pop)))\n",
    "pop"
   ]
  },
  {
   "cell_type": "markdown",
   "metadata": {},
   "source": [
    "Now we'll write a loop that projects the population forward many times. Each time through the loop, we'll add to our results table with the new population size and age distribution:"
   ]
  },
  {
   "cell_type": "code",
   "execution_count": 38,
   "metadata": {},
   "outputs": [],
   "source": [
    "n = start_pop\n",
    "\n",
    "num_projection_steps = 50\n",
    "\n",
    "for i in np.arange(start=1, stop=num_projection_steps):\n",
    "    \n",
    "    n = project(n, lmat)\n",
    "    \n",
    "    current_size = np.sum(n)\n",
    "    current_n_norm = normalize_distn(n)\n",
    "    \n",
    "    pop = pop.with_row(list(np.append([i,\n",
    "                                      current_size],\n",
    "                                      current_n_norm)))"
   ]
  },
  {
   "cell_type": "markdown",
   "metadata": {},
   "source": [
    "Let's take a look at the results of projecting 50 time steps:"
   ]
  },
  {
   "cell_type": "code",
   "execution_count": 39,
   "metadata": {},
   "outputs": [],
   "source": [
    "pop"
   ]
  },
  {
   "cell_type": "markdown",
   "metadata": {},
   "source": [
    "**Question - Make a plot to visualize how the age distributions change as the population is projected forward. Your plot should have 'iteration' on the x axis, and it should have a separate line for each age group.**  \n",
    "*[NOTE: This is a bit tricky. You may find the `drop` and `plot` functions useful.]*"
   ]
  },
  {
   "cell_type": "code",
   "execution_count": 40,
   "metadata": {},
   "outputs": [],
   "source": [
    "pop....\n",
    "plt.title(country);"
   ]
  },
  {
   "cell_type": "markdown",
   "metadata": {
    "deletable": false,
    "editable": false
   },
   "source": [
    "<!-- BEGIN QUESTION -->\n",
    "\n",
    "**Question - How would you describe what happens to the age distribution over time?**\n",
    "<!--\n",
    "BEGIN QUESTION\n",
    "name: q_comment_stable_age\n",
    "points: 2\n",
    "manual: true\n",
    "-->"
   ]
  },
  {
   "cell_type": "markdown",
   "id": "exempt-verse",
   "metadata": {},
   "source": [
    "_Type your answer here, replacing this text._"
   ]
  },
  {
   "cell_type": "markdown",
   "metadata": {},
   "source": [
    "<!-- END QUESTION -->\n",
    "\n",
    "\n",
    "\n",
    "It will be helpful to write a function that makes a projection like the one above"
   ]
  },
  {
   "cell_type": "markdown",
   "metadata": {},
   "source": [
    "**Question - Copy the code for the projection above into the body of this function; the result should be a function that will take a starting population, a Leslie matrix, and a number of projection steps and return a projetion dataset like the one we calculated for India above.**"
   ]
  },
  {
   "cell_type": "code",
   "execution_count": 41,
   "metadata": {},
   "outputs": [],
   "source": [
    "def repeat_project(start_pop, lmat, num_projection_steps):\n",
    "    \n",
    "    ...\n",
    "    ...\n",
    "    ..."
   ]
  },
  {
   "cell_type": "markdown",
   "metadata": {
    "deletable": false,
    "editable": false
   },
   "source": [
    "**Question - Now test that your function works by using it to repeat the projection for India that you saw above.**  \n",
    "*[HINT: You should get a size of about 1,832,966 for the final projection step]*\n",
    "<!--\n",
    "BEGIN QUESTION\n",
    "name: q_india_50times_withage\n",
    "points: 3\n",
    "-->"
   ]
  },
  {
   "cell_type": "code",
   "execution_count": 42,
   "metadata": {},
   "outputs": [],
   "source": [
    "country = 'India'\n",
    "period = 2015\n",
    "\n",
    "india_lmat = ...\n",
    "start_pop = ...\n",
    "\n",
    "result = repeat_project(...)\n",
    "result\n",
    "\n",
    "finalpopsize = result.column('size').item(result.num_rows-1)\n",
    "\n",
    "print('popn size is ', finalpopsize)"
   ]
  },
  {
   "cell_type": "code",
   "execution_count": null,
   "id": "responsible-management",
   "metadata": {
    "deletable": false,
    "editable": false
   },
   "outputs": [],
   "source": [
    "grader.check(\"q_india_50times_withage\")"
   ]
  },
  {
   "cell_type": "markdown",
   "metadata": {},
   "source": [
    "Note that we can use the `repeat_project` function to work with a starting population and a Leslie matrix. This is useful because it is very general; for example, we could project the 1970 population of China forward using the Leslie matrix from Belgium in 2000. In other words, `repeat_project` has the ability to play out lots of different thought experiments that can potentially help us understand what role the starting age distribution, mortality, and fertility play in projections.\n",
    "\n",
    "In many cases, we'll want to project a population forward using its own rates. That's what we did above: we took the 2015 population of India and we projected it forward using the Leslie matrix for 2015 India. Let's write a function that makes it fast to project a country using its own Leslie matrix."
   ]
  },
  {
   "cell_type": "markdown",
   "metadata": {
    "deletable": false,
    "editable": false
   },
   "source": [
    "**Question - Fill in the code below to write a function that projects a country forward using its own Leslie matrix**  \n",
    "\n",
    "*[HINT: Essentially, you're being asked to generalize what we just did for 2015 India into a function.]*\n",
    "<!--\n",
    "BEGIN QUESTION\n",
    "name: q_self_project_fn\n",
    "points: 3\n",
    "-->"
   ]
  },
  {
   "cell_type": "code",
   "execution_count": 44,
   "metadata": {},
   "outputs": [],
   "source": [
    "def self_project(country, period, num_projection_steps):\n",
    "    lmat = ...\n",
    "    start_pop = ...\n",
    "\n",
    "    result = ...\n",
    "    \n",
    "    return(result)\n",
    "\n",
    "india_v2 = self_project(\"India\", 2015, 50)"
   ]
  },
  {
   "cell_type": "code",
   "execution_count": null,
   "id": "equipped-slope",
   "metadata": {
    "deletable": false,
    "editable": false
   },
   "outputs": [],
   "source": [
    "grader.check(\"q_self_project_fn\")"
   ]
  },
  {
   "cell_type": "markdown",
   "metadata": {},
   "source": [
    "Now we have a quick way to plot the projection of a country's age distribution. This should produce the same plot you made above:"
   ]
  },
  {
   "cell_type": "code",
   "execution_count": 47,
   "metadata": {},
   "outputs": [],
   "source": [
    "self_project('India', 2015, 50).drop('size').plot('iteration')"
   ]
  },
  {
   "cell_type": "markdown",
   "metadata": {},
   "source": [
    "And, using our funciton, we can easily do the same for a different country and time period:"
   ]
  },
  {
   "cell_type": "code",
   "execution_count": 48,
   "metadata": {},
   "outputs": [],
   "source": [
    "self_project('France', 1990, 50).drop('size').plot('iteration')"
   ]
  },
  {
   "cell_type": "markdown",
   "metadata": {},
   "source": [
    "And also a quick way to plot the projection of a country's size:"
   ]
  },
  {
   "cell_type": "code",
   "execution_count": 49,
   "metadata": {},
   "outputs": [],
   "source": [
    "self_project('France', 1990, 50).select(['iteration', 'size']).plot('iteration')"
   ]
  },
  {
   "cell_type": "markdown",
   "metadata": {},
   "source": [
    "**Question - For the four countries you explored at the beginning of the lab, plot the self-projected age distributions and sizes over 50 time steps.**\n"
   ]
  },
  {
   "cell_type": "code",
   "execution_count": 50,
   "metadata": {},
   "outputs": [],
   "source": [
    "...\n",
    "...\n",
    "...\n",
    "..."
   ]
  },
  {
   "cell_type": "markdown",
   "metadata": {
    "deletable": false,
    "editable": false
   },
   "source": [
    "<!-- BEGIN QUESTION -->\n",
    "\n",
    "**Question - Does this analysis confirm what you guessed when analyzing the average age, earlier in the lab?**\n",
    "<!--\n",
    "BEGIN QUESTION\n",
    "name: q_confirm_avg_age_guess_comment\n",
    "points: 2\n",
    "manual: true\n",
    "-->"
   ]
  },
  {
   "cell_type": "markdown",
   "id": "graduate-parish",
   "metadata": {},
   "source": [
    "_Type your answer here, replacing this text._"
   ]
  },
  {
   "cell_type": "markdown",
   "metadata": {
    "deletable": false,
    "editable": false
   },
   "source": [
    "<!-- END QUESTION -->\n",
    "\n",
    "<!-- BEGIN QUESTION -->\n",
    "\n",
    "**Question - Do you notice anything about the relationship between age structure and speed of growth/decline in population size?**\n",
    "<!--\n",
    "BEGIN QUESTION\n",
    "name: q_comment_notice_age_speed\n",
    "points: 2\n",
    "manual: true\n",
    "-->"
   ]
  },
  {
   "cell_type": "markdown",
   "id": "combined-pearl",
   "metadata": {},
   "source": [
    "_Type your answer here, replacing this text._"
   ]
  },
  {
   "cell_type": "markdown",
   "metadata": {},
   "source": [
    "<!-- END QUESTION -->\n",
    "\n",
    "\n",
    "\n",
    "## Optional challenge - comparing start and end age distributions"
   ]
  },
  {
   "attachments": {},
   "cell_type": "markdown",
   "metadata": {},
   "source": [
    "It's a little hard to tell from the plots above what is happening to the age distributions over the course of the projections. Hopefully, you can tell from those plots that the age distributions seem to settle down to stable values after many projection steps. But it's hard to tell what they actually look like -- i.e., does the population tend to become older? Younger?\n",
    "\n",
    "In this challenge section, we'll probe this question a bit more deeply.\n",
    "\n",
    "Because this is the challenge section, you won't be guided through the whole way. Instead, here's the kind of plot you want to be able to make:\n",
    "\n",
    "![](france_1990_projected_50_steps.png)"
   ]
  },
  {
   "cell_type": "markdown",
   "metadata": {},
   "source": [
    "The plot shows the population distribution of French women in 1990 (in blue, labeled 'start') and the population distribution after projecting French women forward using the life table for 1990 French women for 50 time steps.\n",
    "\n",
    "See if you can write a function that will produce a plot like this for any projection. Then compare the starting and ending age distributions across a few countries. How similar are they? Do you think that the starting age distribution affects the eventual stable age distribution?"
   ]
  },
  {
   "cell_type": "code",
   "execution_count": 51,
   "metadata": {},
   "outputs": [],
   "source": [
    "def compare_projection_agedistn(projection_result):\n",
    "    ...\n",
    "    \n",
    "france_proj = self_project('France', 1990, 50)\n",
    "compare_projection_agedistn(france_proj).plot('age')\n",
    "plt.title('France 1990, projected 50 steps');"
   ]
  },
  {
   "cell_type": "code",
   "execution_count": null,
   "metadata": {},
   "outputs": [],
   "source": []
  },
  {
   "cell_type": "markdown",
   "id": "interior-diana",
   "metadata": {
    "deletable": false,
    "editable": false
   },
   "source": [
    "---\n",
    "\n",
    "To double-check your work, the cell below will rerun all of the autograder tests."
   ]
  },
  {
   "cell_type": "code",
   "execution_count": null,
   "id": "lined-horror",
   "metadata": {
    "deletable": false,
    "editable": false
   },
   "outputs": [],
   "source": [
    "grader.check_all()"
   ]
  },
  {
   "cell_type": "markdown",
   "id": "sudden-fence",
   "metadata": {
    "deletable": false,
    "editable": false
   },
   "source": [
    "## Submission\n",
    "\n",
    "Make sure you have run all cells in your notebook in order before running the cell below, so that all images/graphs appear in the output. The cell below will generate a zip file for you to submit. **Please save before exporting!**\n",
    "\n",
    "Please be sure to upload your submission to Gradescope."
   ]
  },
  {
   "cell_type": "code",
   "execution_count": null,
   "id": "enhanced-prefix",
   "metadata": {
    "deletable": false,
    "editable": false
   },
   "outputs": [],
   "source": [
    "# Save your notebook first, then run this cell to export your submission.\n",
    "grader.export()"
   ]
  },
  {
   "cell_type": "markdown",
   "id": "advanced-crystal",
   "metadata": {},
   "source": [
    " "
   ]
  }
 ],
 "metadata": {
  "anaconda-cloud": {},
  "kernelspec": {
   "display_name": "Python 3",
   "language": "python",
   "name": "python3"
  },
  "language_info": {
   "codemirror_mode": {
    "name": "ipython",
    "version": 3
   },
   "file_extension": ".py",
   "mimetype": "text/x-python",
   "name": "python",
   "nbconvert_exporter": "python",
   "pygments_lexer": "ipython3",
   "version": "3.7.7"
  }
 },
 "nbformat": 4,
 "nbformat_minor": 1
}
