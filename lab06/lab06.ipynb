{
 "cells": [
  {
   "cell_type": "code",
   "execution_count": null,
   "id": "entire-senator",
   "metadata": {
    "deletable": false,
    "editable": false
   },
   "outputs": [],
   "source": [
    "# Initialize Otter\n",
    "import otter\n",
    "grader = otter.Notebook(\"lab06.ipynb\")"
   ]
  },
  {
   "cell_type": "code",
   "execution_count": 1,
   "metadata": {},
   "outputs": [],
   "source": [
    "from IPython.core.display import HTML\n",
    "from datascience import *\n",
    "\n",
    "import matplotlib\n",
    "matplotlib.use('Agg')\n",
    "%matplotlib inline\n",
    "import matplotlib.pyplot as plt\n",
    "import numpy as np\n",
    "import os\n",
    "plt.style.use('fivethirtyeight')\n",
    "\n",
    "import pandas as pd\n",
    "import zipfile\n",
    "import io\n",
    "import math"
   ]
  },
  {
   "cell_type": "markdown",
   "metadata": {},
   "source": [
    "# Lab 06 - The Demographic Dividend"
   ]
  },
  {
   "cell_type": "markdown",
   "metadata": {},
   "source": [
    "## Introductions"
   ]
  },
  {
   "cell_type": "markdown",
   "metadata": {
    "deletable": false,
    "editable": false
   },
   "source": [
    "<!-- BEGIN QUESTION -->\n",
    "\n",
    "**What is your partner's name?**\n",
    "<!--\n",
    "BEGIN QUESTION\n",
    "name: q_introname\n",
    "points: 1\n",
    "manual: True\n",
    "-->"
   ]
  },
  {
   "cell_type": "markdown",
   "id": "applied-jason",
   "metadata": {},
   "source": [
    "_Type your answer here, replacing this text._"
   ]
  },
  {
   "cell_type": "markdown",
   "metadata": {
    "deletable": false,
    "editable": false
   },
   "source": [
    "<!-- END QUESTION -->\n",
    "\n",
    "<!-- BEGIN QUESTION -->\n",
    "\n",
    "**What year is your partner in? (Freshman, Sophomore, etc)**\n",
    "<!--\n",
    "BEGIN QUESTION\n",
    "name: q_introyear\n",
    "points: 1\n",
    "manual: True\n",
    "-->"
   ]
  },
  {
   "cell_type": "markdown",
   "id": "historic-presence",
   "metadata": {},
   "source": [
    "_Type your answer here, replacing this text._"
   ]
  },
  {
   "cell_type": "markdown",
   "metadata": {
    "deletable": false,
    "editable": false
   },
   "source": [
    "<!-- END QUESTION -->\n",
    "\n",
    "<!-- BEGIN QUESTION -->\n",
    "\n",
    "**What is your partner's favorite food?**\n",
    "<!--\n",
    "BEGIN QUESTION\n",
    "name: q_introfood\n",
    "points: 1\n",
    "manual: True\n",
    "-->"
   ]
  },
  {
   "cell_type": "markdown",
   "id": "spare-generation",
   "metadata": {},
   "source": [
    "_Type your answer here, replacing this text._"
   ]
  },
  {
   "cell_type": "markdown",
   "metadata": {},
   "source": [
    "<!-- END QUESTION -->\n",
    "\n",
    "\n",
    "\n",
    " "
   ]
  },
  {
   "cell_type": "markdown",
   "metadata": {},
   "source": [
    "## Age structure and economic productivity"
   ]
  },
  {
   "cell_type": "markdown",
   "metadata": {},
   "source": [
    "A [dependency ratio](https://en.wikipedia.org/wiki/Dependency_ratio) is a quantity that is intended to roughly capture what fraction of a population is at economically productive age ranges. Thus, a dependency ratio can be thought of as a summary of how conducive a population's age structure is to economic productivity.\n",
    "\n",
    "We'll focus on three different dependency ratios today. The first is the **child dependency ratio**:\n",
    "\n",
    "$$\n",
    "\\text{Child Dependency Ratio} = 100 \\times \\frac{\\text{num. children aged 0-14}}{\\text{num. adults aged 15-64}}.\n",
    "$$\n",
    "\n",
    "The child dependency ratio captures, on average, how many children each working-age adult supports.\n",
    "\n",
    "The second metric is the **old-age dependency ratio**:\n",
    "\n",
    "$$\n",
    "\\text{Old-age Dependency Ratio} = 100 \\times \\frac{\\text{num. adults aged 65+}}{\\text{num. adults aged 15-64}}.\n",
    "$$\n",
    "\n",
    "The old-age dependency ratio captures, on average, how many older people each working-age adult supports.\n",
    "\n",
    "Finally, the **total dependency ratio** is given by\n",
    "\n",
    "$$\n",
    "\\text{Total Dependency Ratio} = 100 \\times \\frac{\\text{num. children aged 0-14} + \\text{num. adults aged 65+}}{\\text{num. adults aged 15-64}}.\n",
    "$$\n",
    "\n",
    "The total dependency ratio captures how many children and adults are supported by the average working-age adult."
   ]
  },
  {
   "cell_type": "markdown",
   "metadata": {
    "deletable": false,
    "editable": false
   },
   "source": [
    "<!-- BEGIN QUESTION -->\n",
    "\n",
    "**Question - What is the range of possible values that the total dependency ratio can take on?**\n",
    "<!--\n",
    "BEGIN QUESTION\n",
    "name: q_comment_tdr\n",
    "points: 1\n",
    "manual: true\n",
    "-->"
   ]
  },
  {
   "cell_type": "markdown",
   "id": "secure-grace",
   "metadata": {},
   "source": [
    "_Type your answer here, replacing this text._"
   ]
  },
  {
   "cell_type": "markdown",
   "metadata": {
    "deletable": false,
    "editable": false
   },
   "source": [
    "<!-- END QUESTION -->\n",
    "\n",
    "<!-- BEGIN QUESTION -->\n",
    "\n",
    "**Question - Mathematically, what is the relationship between the total, child, and old-age dependency ratios?**  \n",
    "*[HINT: If given the child and old-age dependency ratios, how might you calculate the total dependency ratio?]*\n",
    "<!--\n",
    "BEGIN QUESTION\n",
    "name: q_comment_different_dr_relationships\n",
    "points: 2\n",
    "manual: true\n",
    "-->"
   ]
  },
  {
   "cell_type": "markdown",
   "id": "floral-ontario",
   "metadata": {},
   "source": [
    "_Type your answer here, replacing this text._"
   ]
  },
  {
   "cell_type": "markdown",
   "metadata": {
    "deletable": false,
    "editable": false
   },
   "source": [
    "<!-- END QUESTION -->\n",
    "\n",
    "<!-- BEGIN QUESTION -->\n",
    "\n",
    "**Question - In the data exercises below, we're going to look only at the female population, ignoring males. What impact, if any, do you think this will have on the old-age dependency ratio?**\n",
    "<!--\n",
    "BEGIN QUESTION\n",
    "name: q_comment_dr_onlyfemale\n",
    "points: 1\n",
    "manual: true\n",
    "-->"
   ]
  },
  {
   "cell_type": "markdown",
   "id": "above-threat",
   "metadata": {},
   "source": [
    "_Type your answer here, replacing this text._"
   ]
  },
  {
   "cell_type": "markdown",
   "metadata": {
    "deletable": false,
    "editable": false
   },
   "source": [
    "<!-- END QUESTION -->\n",
    "\n",
    "<!-- BEGIN QUESTION -->\n",
    "\n",
    "**Question - The total dependency ratio is a widely used way to try to quantify how many people need to be supported by people who are working. What are two limitations of the total dependency ratio when used for this purpose?**\n",
    "<!--\n",
    "BEGIN QUESTION\n",
    "name: q_comment_tdr_limitation\n",
    "points: 1\n",
    "manual: true\n",
    "-->"
   ]
  },
  {
   "cell_type": "markdown",
   "id": "democratic-strain",
   "metadata": {},
   "source": [
    "_Type your answer here, replacing this text._"
   ]
  },
  {
   "cell_type": "markdown",
   "metadata": {},
   "source": [
    "<!-- END QUESTION -->\n",
    "\n",
    "\n",
    "\n",
    "## Looking at historical dependency ratios around the world"
   ]
  },
  {
   "cell_type": "markdown",
   "metadata": {},
   "source": [
    "We'll open up a dataset with the UNPD estimates for the age-distribution of countries around the world, over time. (To keep things simple, we'll only look at female populations today.)"
   ]
  },
  {
   "cell_type": "code",
   "execution_count": 2,
   "metadata": {},
   "outputs": [],
   "source": [
    "unpd_pop = Table.read_table('data/unpd_f_pop_byage_cleaned.csv')\n",
    "unpd_pop"
   ]
  },
  {
   "cell_type": "markdown",
   "metadata": {},
   "source": [
    "This function is from Lab 05; it will help us grab population distributions from the UNPD dataset."
   ]
  },
  {
   "cell_type": "code",
   "execution_count": 3,
   "metadata": {},
   "outputs": [],
   "source": [
    "def get_pop(country, reference_date):\n",
    "    raw_dat = unpd_pop.where('area', country).where('reference_date', reference_date)\n",
    "    return(raw_dat)\n",
    "\n",
    "get_pop('United States of America', 1980).show()"
   ]
  },
  {
   "cell_type": "markdown",
   "metadata": {},
   "source": [
    "It will also be helpful to have a list with all of the periods available in the UNPD dataset."
   ]
  },
  {
   "cell_type": "code",
   "execution_count": 4,
   "metadata": {},
   "outputs": [],
   "source": [
    "all_periods = np.unique(unpd_pop['reference_date'])\n",
    "all_periods"
   ]
  },
  {
   "cell_type": "markdown",
   "metadata": {
    "deletable": false,
    "editable": false
   },
   "source": [
    "**Question - fill in the code below to write a function that takes information about a population (returned by `get_pop`) and calculates the old-age dependency ratio.**\n",
    "<!--\n",
    "BEGIN QUESTION\n",
    "name: q_calculate_old_dr_fn\n",
    "points: 3\n",
    "-->"
   ]
  },
  {
   "cell_type": "code",
   "execution_count": 5,
   "metadata": {},
   "outputs": [],
   "source": [
    "def calculate_old_dr(population_data):\n",
    "    \n",
    "    # calculate the total number of old people\n",
    "    tot_old = ...\n",
    "    # calculate the total number of working-age people\n",
    "    tot_working = ...\n",
    "    \n",
    "    # use tot_old and tot_working to calculate the old-age dependency ratio\n",
    "    old_dr = ...\n",
    "    return(old_dr)\n",
    "    \n",
    "us_old_dr = calculate_old_dr(get_pop('United States of America', 1980))\n",
    "us_old_dr"
   ]
  },
  {
   "cell_type": "code",
   "execution_count": null,
   "id": "exclusive-minimum",
   "metadata": {
    "deletable": false,
    "editable": false
   },
   "outputs": [],
   "source": [
    "grader.check(\"q_calculate_old_dr_fn\")"
   ]
  },
  {
   "cell_type": "markdown",
   "metadata": {
    "deletable": false,
    "editable": false
   },
   "source": [
    "**Question - fill in the code below to write a function that takes information about a population (returned by `get_pop`) and calculates the child dependency ratio.**\n",
    "<!--\n",
    "BEGIN QUESTION\n",
    "name: q_calculate_child_dr_fn\n",
    "points: 3\n",
    "-->"
   ]
  },
  {
   "cell_type": "code",
   "execution_count": 7,
   "metadata": {},
   "outputs": [],
   "source": [
    "def calculate_child_dr(population_data):\n",
    "    \n",
    "    # calculate the total number of old people\n",
    "    tot_child = ...\n",
    "    # calculate the total number of working-age people\n",
    "    tot_working = ...\n",
    "    \n",
    "    # use tot_child and tot_working to calculate the child dependency ratio\n",
    "    child_dr = ...\n",
    "    \n",
    "    return(child_dr)\n",
    "    \n",
    "us_child_dr = calculate_child_dr(get_pop('United States of America', 1980))\n",
    "us_child_dr"
   ]
  },
  {
   "cell_type": "code",
   "execution_count": null,
   "id": "global-awareness",
   "metadata": {
    "deletable": false,
    "editable": false
   },
   "outputs": [],
   "source": [
    "grader.check(\"q_calculate_child_dr_fn\")"
   ]
  },
  {
   "cell_type": "markdown",
   "metadata": {
    "deletable": false,
    "editable": false
   },
   "source": [
    "**Question - fill in the code below to write a function that takes information about a population (returned by `get_pop`) and calculates the total dependency ratio.**  \n",
    "*[HINT: you should make use of the two functions you just wrote]*\n",
    "<!--\n",
    "BEGIN QUESTION\n",
    "name: q_calculate_total_dr\n",
    "points: 2\n",
    "-->"
   ]
  },
  {
   "cell_type": "code",
   "execution_count": 9,
   "metadata": {},
   "outputs": [],
   "source": [
    "def calculate_total_dr(population_data):\n",
    "    \n",
    "    total_dr = ...\n",
    "\n",
    "    return(total_dr)\n",
    "    \n",
    "us_total_dr = calculate_total_dr(get_pop('United States of America', 1980))\n",
    "us_total_dr"
   ]
  },
  {
   "cell_type": "code",
   "execution_count": 10,
   "metadata": {},
   "outputs": [],
   "source": [
    "np.isclose(us_total_dr, 53.579951401942836, atol=.01)"
   ]
  },
  {
   "cell_type": "markdown",
   "metadata": {},
   "source": [
    "Now that we can calculate the various dependency ratios, we'd like to be able to take a look at how they have changed over time.  This will help us understand what potential there has been for different countries to experience the demographic dividend."
   ]
  },
  {
   "cell_type": "markdown",
   "metadata": {
    "deletable": false,
    "editable": false
   },
   "source": [
    "<!-- BEGIN QUESTION -->\n",
    "\n",
    "**Question - What pattern in dependency ratios would be favorable for producing a demographic dividend? In other words, what time trend in dependency ratios would lead to the opportunity for economic development?**\n",
    "<!--\n",
    "BEGIN QUESTION\n",
    "name: q_comment_favorable_dr\n",
    "points: 2\n",
    "manual: true\n",
    "-->"
   ]
  },
  {
   "cell_type": "markdown",
   "id": "documented-endorsement",
   "metadata": {},
   "source": [
    "_Type your answer here, replacing this text._"
   ]
  },
  {
   "cell_type": "markdown",
   "metadata": {},
   "source": [
    "<!-- END QUESTION -->\n",
    "\n",
    "\n",
    "\n",
    "OK, now we'll look at actual time trends in dependency ratios."
   ]
  },
  {
   "cell_type": "markdown",
   "metadata": {
    "deletable": false,
    "editable": false
   },
   "source": [
    "**Question - fill in the function below to make it calculate a get time series of the child, old-age, and total dependency ratios for the given country.**\n",
    "<!--\n",
    "BEGIN QUESTION\n",
    "name: q_get_all_dr\n",
    "points: 7\n",
    "-->"
   ]
  },
  {
   "cell_type": "code",
   "execution_count": 11,
   "metadata": {},
   "outputs": [],
   "source": [
    "def get_all_dr(country):\n",
    "    \n",
    "    total_dr = make_array()\n",
    "    child_dr = make_array()\n",
    "    old_dr = make_array()\n",
    "    \n",
    "    for period in all_periods:\n",
    "        \n",
    "        ## grab the population data for this country and time period\n",
    "        pop_data = ...\n",
    "        \n",
    "        ## calculate the total, old-age, and child dependency ratios\n",
    "        ## (hint: use the functions you wrote above!)\n",
    "        current_total_dr = ...\n",
    "        current_old_dr = ...\n",
    "        current_child_dr = ...\n",
    "        \n",
    "        ## save the dependency ratios you just calculated\n",
    "        total_dr = ...\n",
    "        child_dr = ...\n",
    "        old_dr = ...\n",
    "        \n",
    "    result = Table().with_columns('period', all_periods,\n",
    "                                  'total_dr', total_dr,\n",
    "                                  'old_dr', old_dr,\n",
    "                                  'child_dr', child_dr,                                  \n",
    "                                  'area', country)\n",
    "    return(result)\n",
    "\n",
    "us_all_dr = get_all_dr('United States of America')\n",
    "us_all_dr.show()"
   ]
  },
  {
   "cell_type": "code",
   "execution_count": null,
   "id": "automated-strap",
   "metadata": {
    "deletable": false,
    "editable": false
   },
   "outputs": [],
   "source": [
    "grader.check(\"q_get_all_dr\")"
   ]
  },
  {
   "cell_type": "markdown",
   "metadata": {
    "deletable": false,
    "editable": false
   },
   "source": [
    "<!-- BEGIN QUESTION -->\n",
    "\n",
    "**Question - Plot the time-trajectory of the three dependency ratios for the US**   \n",
    "*[HINT: In the cell above, you calculated the rates for the us and stored them in the Table `us_all_dr`]*\n",
    "<!--\n",
    "BEGIN QUESTION\n",
    "name: q_plot_time_dr\n",
    "points: 3\n",
    "manual: true\n",
    "-->"
   ]
  },
  {
   "cell_type": "code",
   "execution_count": 15,
   "metadata": {},
   "outputs": [],
   "source": [
    "us_all_dr.plot(...)\n",
    "plt.title(\"United States\");"
   ]
  },
  {
   "cell_type": "markdown",
   "metadata": {
    "deletable": false,
    "editable": false
   },
   "source": [
    "<!-- END QUESTION -->\n",
    "\n",
    "<!-- BEGIN QUESTION -->\n",
    "\n",
    "**Question - Fill in the code below to make a function that will first calculate and then plot the three dependency ratios over time for the given country.**  \n",
    "*[HINT: You should be sure to use the `get_all_dr` function you wrote earlier]*\n",
    "<!--\n",
    "BEGIN QUESTION\n",
    "name: q_plot_all_dr\n",
    "points: 2\n",
    "manual: true\n",
    "-->"
   ]
  },
  {
   "cell_type": "code",
   "execution_count": 16,
   "metadata": {},
   "outputs": [],
   "source": [
    "def plot_all_dr(country):\n",
    "    \n",
    "    ## get the dependency ratios for the country\n",
    "    dr_data = ...\n",
    "    \n",
    "    ## plot the results\n",
    "    ...\n",
    "\n",
    "plot_all_dr('Germany')"
   ]
  },
  {
   "cell_type": "markdown",
   "metadata": {
    "deletable": false,
    "editable": false
   },
   "source": [
    "<!-- END QUESTION -->\n",
    "\n",
    "<!-- BEGIN QUESTION -->\n",
    "\n",
    "**Question - Use `plot_all_dr` to plot the time-trajectory of the three dependency ratios for Uganda, Guatemala, Sweden, and Japan.**\n",
    "<!--\n",
    "BEGIN QUESTION\n",
    "name: q_plot_time_dr_4countries\n",
    "points: 4\n",
    "manual: true\n",
    "-->"
   ]
  },
  {
   "cell_type": "code",
   "execution_count": 17,
   "metadata": {},
   "outputs": [],
   "source": [
    "...\n",
    "...\n",
    "...\n",
    "..."
   ]
  },
  {
   "cell_type": "markdown",
   "metadata": {
    "deletable": false,
    "editable": false
   },
   "source": [
    "<!-- END QUESTION -->\n",
    "\n",
    "<!-- BEGIN QUESTION -->\n",
    "\n",
    "**Question - Sort the four countries you just looked at into the stage of the demographic transition they are in; use the categories early, middle, and late. Do the dependency ratio patterns look like they are related to the demographic transition?**\n",
    "<!--\n",
    "BEGIN QUESTION\n",
    "name: q_comment_dr_4countries\n",
    "points: 2\n",
    "manual: true\n",
    "-->"
   ]
  },
  {
   "cell_type": "markdown",
   "id": "sharp-general",
   "metadata": {},
   "source": [
    "_Type your answer here, replacing this text._"
   ]
  },
  {
   "cell_type": "markdown",
   "metadata": {},
   "source": [
    "<!-- END QUESTION -->\n",
    "\n",
    "\n",
    "\n",
    "## Looking at dependency ratios using simulation"
   ]
  },
  {
   "cell_type": "markdown",
   "metadata": {},
   "source": [
    "In the first part of the lab, which you've just finished, you looked at how dependency ratios have changed over time in the real world.\n",
    "\n",
    "In the second part of the lab, we're going to use the simulation tools that we developed last lab to get a sense for how dependency ratios change as populations do. This analysis will help us understand what kind of factors affect dependency ratios in the long run. For example, we might wonder if a given set of fertility and mortality rates implies a relatively high or low dependency ratio. Understanding this would help us know how to come up with policy suggestions that could help countries manage their dependency ratios. It might even help them develop economically.\n",
    "\n",
    "One way to study this question would be do use mathematical demography. But in this class, we're practicing our coding, so we'll use simulations instead.  We'll re-use some of the code that we developed in the formal demography lab.  To save us from having to type all of those population projection functions in again, I've put them in a module called `leslie`. We can load the module like this:"
   ]
  },
  {
   "cell_type": "code",
   "execution_count": 18,
   "metadata": {},
   "outputs": [],
   "source": [
    "import leslie"
   ]
  },
  {
   "cell_type": "markdown",
   "metadata": {},
   "source": [
    "To see an example of using the module, recall that in the formal demography lab, we wrote a function called `self_project` that takes a country and a time period and projects that country's population at that time period forward, assuming that birth and death rates are fixed.  `self_project` is in the `leslie` module, so we can use it now. The only difference from last week is that we have to specify that the `self_project` function is inside of the `leslie` module by calling it like this:"
   ]
  },
  {
   "cell_type": "code",
   "execution_count": 19,
   "metadata": {},
   "outputs": [],
   "source": [
    "india_proj = leslie.self_project('India', 1970, 20)\n",
    "india_proj"
   ]
  },
  {
   "cell_type": "markdown",
   "metadata": {},
   "source": [
    "Note that we called `leslie.self_projct(...)` to use the `self_project` function that is inside the `leslie` module."
   ]
  },
  {
   "cell_type": "markdown",
   "metadata": {},
   "source": [
    "We'd like to develop an understanding of what happens to dependency ratios when birth and death rates are fixed over long periods of time. We'll do this by taking the results of `self_project` and calculating the three dependency ratios for each iteration of the projection."
   ]
  },
  {
   "cell_type": "markdown",
   "metadata": {},
   "source": [
    "In order to make this a bit easier, we're providing you with a function that will calculate, for each row in a table, the sum across a given set of columns:"
   ]
  },
  {
   "cell_type": "code",
   "execution_count": 20,
   "metadata": {},
   "outputs": [],
   "source": [
    "def row_sums(tab, which_cols):\n",
    "    \"\"\"\n",
    "    Calculate the sum across which_cols in the Table tab\n",
    "    row by row.\n",
    "    \"\"\"\n",
    "    tab_forsum = tab.select(which_cols)\n",
    "    return(make_array(tab_forsum.to_df().sum(axis=1))[0])"
   ]
  },
  {
   "cell_type": "markdown",
   "metadata": {},
   "source": [
    "To see an example of this function in action, let's create a test Table:"
   ]
  },
  {
   "cell_type": "code",
   "execution_count": 21,
   "metadata": {},
   "outputs": [],
   "source": [
    "test_table = Table().with_columns('a', np.arange(4),\n",
    "                                  'b', make_array('a', 'b', 'c', 'd'),\n",
    "                                  'c', np.arange(4),\n",
    "                                  'd', np.arange(start=10, stop=14))\n",
    "test_table"
   ]
  },
  {
   "cell_type": "markdown",
   "metadata": {},
   "source": [
    "We can use `row_sums` to calculate the row-wise sum of columns 'c' and 'd' like this:"
   ]
  },
  {
   "cell_type": "code",
   "execution_count": 22,
   "metadata": {},
   "outputs": [],
   "source": [
    "row_sums(test_table, np.arange(start=2,stop=4))"
   ]
  },
  {
   "cell_type": "markdown",
   "metadata": {},
   "source": [
    "We passed in `np.arange(start=2, stop=4)` because columns 'c' and 'd' are at indexes 2 and 3."
   ]
  },
  {
   "cell_type": "markdown",
   "metadata": {
    "deletable": false,
    "editable": false
   },
   "source": [
    "**Question - Fill in the code below to calculate the three dependency ratios for the given population projection output.**   \n",
    "*[HINT: You should use the function `row_sums` here. Note also that the columns with the child ages are at indexes 2 to 4; the working ages are indexes 5 to 14; and the old ages are indexes 15 to 19]*\n",
    "<!--\n",
    "BEGIN QUESTION\n",
    "name: q_add_dep_ratios\n",
    "points: 6\n",
    "-->"
   ]
  },
  {
   "cell_type": "code",
   "execution_count": 23,
   "metadata": {},
   "outputs": [],
   "source": [
    "def add_dep_ratios(proj_output):\n",
    "    \n",
    "    # add columns for the proportion of the population that is\n",
    "    # at child, working, and adult ages (hint: use the row_sums function)\n",
    "    res = proj_output.with_columns('prop_old', ...,\n",
    "                                   'prop_child', ...,\n",
    "                                   'prop_working', ...)\n",
    "    \n",
    "    # calculate the dependency ratios (hint: use the columns you just added above)\n",
    "    res = res.with_columns('total_dr', ...,\n",
    "                           'child_dr', ...,\n",
    "                           'old_dr',   ...)\n",
    "    return(res)\n",
    "\n",
    "india_proj_withdr = add_dep_ratios(india_proj)\n",
    "india_proj_withdr"
   ]
  },
  {
   "cell_type": "code",
   "execution_count": null,
   "id": "angry-victoria",
   "metadata": {
    "deletable": false,
    "editable": false
   },
   "outputs": [],
   "source": [
    "grader.check(\"q_add_dep_ratios\")"
   ]
  },
  {
   "cell_type": "markdown",
   "metadata": {
    "deletable": false,
    "editable": false
   },
   "source": [
    "<!-- BEGIN QUESTION -->\n",
    "\n",
    "**Question - Fill in the code below to plot the total, child, and old-age dependency ratios (y axis) by iteration (x axis). This plot will show how the dependency ratios change as the population is projected forward in time.**\n",
    "<!--\n",
    "BEGIN QUESTION\n",
    "name: q_plot_dr_iteration\n",
    "points: 1\n",
    "manual: true\n",
    "-->"
   ]
  },
  {
   "cell_type": "code",
   "execution_count": 27,
   "metadata": {},
   "outputs": [],
   "source": [
    "...\n",
    "plt.title(\"India (1970) projection\");"
   ]
  },
  {
   "cell_type": "markdown",
   "metadata": {
    "deletable": false,
    "editable": false
   },
   "source": [
    "<!-- END QUESTION -->\n",
    "\n",
    "<!-- BEGIN QUESTION -->\n",
    "\n",
    "**Question - Now fill in the code below to project the 2015 Uganda population forward 20 time steps, calculate the dependency ratios, and plot the results**  \n",
    "*[HINT: Be sure to use the `leslie.self_project` and `add_dep_ratios` functions]*\n",
    "<!--\n",
    "BEGIN QUESTION\n",
    "name: q_project_uganda_20steps\n",
    "points: 3\n",
    "manual: true\n",
    "-->"
   ]
  },
  {
   "cell_type": "code",
   "execution_count": 28,
   "metadata": {},
   "outputs": [],
   "source": [
    "## project 2015 Uganda forward 20 time steps\n",
    "uganda_proj = ...\n",
    "## calculate dependency ratios\n",
    "uganda_proj_withdr = ...\n",
    "## plot the result\n",
    "...\n",
    "plt.title(\"Uganda (2105) projection\");"
   ]
  },
  {
   "cell_type": "markdown",
   "id": "inner-pioneer",
   "metadata": {
    "deletable": false,
    "editable": false
   },
   "source": [
    "<!-- END QUESTION -->"
   ]
  },
  {
   "cell_type": "code",
   "execution_count": 29,
   "metadata": {},
   "outputs": [],
   "source": [
    "## project 2015 Uganda forward 20 time steps\n",
    "uganda_proj = ...\n",
    "## calculate dependency ratios\n",
    "uganda_proj_withdr = ...\n",
    "## plot the result\n",
    "...\n",
    "plt.title(\"Uganda (2105) projection\");"
   ]
  },
  {
   "cell_type": "markdown",
   "metadata": {
    "deletable": false,
    "editable": false
   },
   "source": [
    "<!-- BEGIN QUESTION -->\n",
    "\n",
    "**Question - Finally, do the same thing for Japan. That is, write some code to project the 2015 Japan population forward 20 time steps, calculate the dependency ratios, and plot the results**\n",
    "<!--\n",
    "BEGIN QUESTION\n",
    "name: q_project_japan_20steps\n",
    "points: 3\n",
    "manual: true\n",
    "-->"
   ]
  },
  {
   "cell_type": "code",
   "execution_count": 30,
   "metadata": {
    "scrolled": true
   },
   "outputs": [],
   "source": [
    "japan_proj = ...\n",
    "japan_proj_withdr = ...\n",
    "...\n",
    "plt.title(\"Japan (2015) projection\");"
   ]
  },
  {
   "cell_type": "markdown",
   "metadata": {
    "deletable": false,
    "editable": false
   },
   "source": [
    "<!-- END QUESTION -->\n",
    "\n",
    "<!-- BEGIN QUESTION -->\n",
    "\n",
    "**Question - From these examples, what do you conclude about the dependency ratios -- do they change over time, or do they tend to converge to stable values?**\n",
    "<!--\n",
    "BEGIN QUESTION\n",
    "name: q_comment_dr_converge\n",
    "points: 2\n",
    "manual: true\n",
    "-->"
   ]
  },
  {
   "cell_type": "markdown",
   "id": "floral-pollution",
   "metadata": {},
   "source": [
    "_Type your answer here, replacing this text._"
   ]
  },
  {
   "cell_type": "markdown",
   "metadata": {
    "deletable": false,
    "editable": false
   },
   "source": [
    "<!-- END QUESTION -->\n",
    "\n",
    "<!-- BEGIN QUESTION -->\n",
    "\n",
    "**Question - From these examples, what do you conclude about how dependency ratios are related to the population rates that are used in the projection? Do the dependency ratios tend to settle on the same values no matter what the rates are? Or might they depend on the rates?**\n",
    "<!--\n",
    "BEGIN QUESTION\n",
    "name: q_comment_dr_popn_rates\n",
    "points: 2\n",
    "manual: true\n",
    "-->"
   ]
  },
  {
   "cell_type": "markdown",
   "id": "unnecessary-baseline",
   "metadata": {},
   "source": [
    "_Type your answer here, replacing this text._"
   ]
  },
  {
   "cell_type": "markdown",
   "metadata": {},
   "source": [
    "<!-- END QUESTION -->\n",
    "\n",
    "\n",
    "\n",
    "If you are interested in finding more information about the demographic dividend, here are some resources:\n",
    "\n",
    "* [The Wikipedia page](https://en.wikipedia.org/wiki/Demographic_dividend) has an overview\n",
    "* [The IMF](https://www.imf.org/external/pubs/ft/fandd/2006/09/basics.htm) has a [What is the demographic dividend?](https://www.imf.org/external/pubs/ft/fandd/2006/09/basics.htm) explainer\n",
    "* The Health Policy Project has developed [DemDiv](http://www.healthpolicyproject.com/index.cfm?id=software&get=DemDiv), a spreadsheet-based model for projecting population scenarios related to the demographic dividend\n",
    "* JHU and the Gates Institute have creaded [www.demographicdividend.org](http://www.demographicdividend.org/). Among other things, the site has different case studies related to the demographic dividend in Africa"
   ]
  },
  {
   "cell_type": "markdown",
   "id": "documented-cookie",
   "metadata": {
    "deletable": false,
    "editable": false
   },
   "source": [
    "---\n",
    "\n",
    "To double-check your work, the cell below will rerun all of the autograder tests."
   ]
  },
  {
   "cell_type": "code",
   "execution_count": null,
   "id": "portuguese-helen",
   "metadata": {
    "deletable": false,
    "editable": false
   },
   "outputs": [],
   "source": [
    "grader.check_all()"
   ]
  },
  {
   "cell_type": "markdown",
   "id": "underlying-mandate",
   "metadata": {
    "deletable": false,
    "editable": false
   },
   "source": [
    "## Submission\n",
    "\n",
    "Make sure you have run all cells in your notebook in order before running the cell below, so that all images/graphs appear in the output. The cell below will generate a zip file for you to submit. **Please save before exporting!**\n",
    "\n",
    "Please be sure to upload your submission to Gradescope."
   ]
  },
  {
   "cell_type": "code",
   "execution_count": null,
   "id": "blond-software",
   "metadata": {
    "deletable": false,
    "editable": false
   },
   "outputs": [],
   "source": [
    "# Save your notebook first, then run this cell to export your submission.\n",
    "grader.export()"
   ]
  },
  {
   "cell_type": "markdown",
   "id": "stuffed-trash",
   "metadata": {},
   "source": [
    " "
   ]
  }
 ],
 "metadata": {
  "anaconda-cloud": {},
  "kernelspec": {
   "display_name": "Python 3",
   "language": "python",
   "name": "python3"
  },
  "language_info": {
   "codemirror_mode": {
    "name": "ipython",
    "version": 3
   },
   "file_extension": ".py",
   "mimetype": "text/x-python",
   "name": "python",
   "nbconvert_exporter": "python",
   "pygments_lexer": "ipython3",
   "version": "3.7.7"
  }
 },
 "nbformat": 4,
 "nbformat_minor": 1
}
