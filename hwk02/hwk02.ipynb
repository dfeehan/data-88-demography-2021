{
 "cells": [
  {
   "cell_type": "code",
   "execution_count": null,
   "id": "funny-partner",
   "metadata": {
    "deletable": false,
    "editable": false
   },
   "outputs": [],
   "source": [
    "# Initialize Otter\n",
    "import otter\n",
    "grader = otter.Notebook(\"hwk02.ipynb\")"
   ]
  },
  {
   "cell_type": "code",
   "execution_count": 1,
   "metadata": {},
   "outputs": [],
   "source": [
    "from IPython.core.display import HTML\n",
    "from datascience import *\n",
    "\n",
    "import matplotlib\n",
    "matplotlib.use('Agg')\n",
    "%matplotlib inline\n",
    "import matplotlib.pyplot as plt\n",
    "import numpy as np\n",
    "import os\n",
    "plt.style.use('fivethirtyeight')\n",
    "\n",
    "import pandas as pd\n",
    "import zipfile\n",
    "import io\n",
    "import math"
   ]
  },
  {
   "cell_type": "markdown",
   "metadata": {},
   "source": [
    "# Hwk 03 - The demographic transition since 1950"
   ]
  },
  {
   "cell_type": "markdown",
   "metadata": {},
   "source": [
    " "
   ]
  },
  {
   "cell_type": "markdown",
   "metadata": {
    "slideshow": {
     "slide_type": "subslide"
    }
   },
   "source": [
    "## Part I - Background [10 pts]"
   ]
  },
  {
   "cell_type": "markdown",
   "metadata": {},
   "source": [
    "The first set of questions refer to the Population Reference Bureau's report, [The World at 7 Billion](https://www.prb.org/wp-content/uploads/2011/07/world-at-7-billion.pdf).  Please read the report and then answer the following questions **in about two sentences** each. (Each question is worth 2 points.)"
   ]
  },
  {
   "cell_type": "markdown",
   "metadata": {
    "deletable": false,
    "editable": false
   },
   "source": [
    "<!-- BEGIN QUESTION -->\n",
    "\n",
    "**Question - According to the PRB Bulletin, developing countries had very high population growth rates in the second half of the 20th century. Why?**\n",
    "<!--\n",
    "BEGIN QUESTION\n",
    "name: q_background_whyhighgrowth\n",
    "points: 2\n",
    "manual: true\n",
    "-->"
   ]
  },
  {
   "cell_type": "markdown",
   "id": "injured-titanium",
   "metadata": {},
   "source": [
    "_Type your answer here, replacing this text._"
   ]
  },
  {
   "cell_type": "markdown",
   "metadata": {
    "deletable": false,
    "editable": false
   },
   "source": [
    "<!-- END QUESTION -->\n",
    "\n",
    "<!-- BEGIN QUESTION -->\n",
    "\n",
    "**Question - Accoriding to the PRB Bulletin, why does Uganda have a youthful age structure?**\n",
    "<!--\n",
    "BEGIN QUESTION\n",
    "name: q_background_uganda\n",
    "points: 2\n",
    "manual: true\n",
    "-->"
   ]
  },
  {
   "cell_type": "markdown",
   "id": "christian-salad",
   "metadata": {},
   "source": [
    "_Type your answer here, replacing this text._"
   ]
  },
  {
   "cell_type": "markdown",
   "metadata": {
    "deletable": false,
    "editable": false
   },
   "source": [
    "<!-- END QUESTION -->\n",
    "\n",
    "<!-- BEGIN QUESTION -->\n",
    "\n",
    "**Question - According to the PRB Bulletin, why is interpreting demographic trends in India more complex than it is for a country like Vietnam?**\n",
    "<!--\n",
    "BEGIN QUESTION\n",
    "name: q_background_vietnam\n",
    "points: 2\n",
    "manual: true\n",
    "-->"
   ]
  },
  {
   "cell_type": "markdown",
   "id": "concerned-toilet",
   "metadata": {},
   "source": [
    "_Type your answer here, replacing this text._"
   ]
  },
  {
   "cell_type": "markdown",
   "metadata": {
    "deletable": false,
    "editable": false
   },
   "source": [
    "<!-- END QUESTION -->\n",
    "\n",
    "<!-- BEGIN QUESTION -->\n",
    "\n",
    "**Question - According to the PRB report, deaths have exceeded births in Germany since about 1972. Nonetheless, Germany has managed to avoid rapid population decline. Why?**\n",
    "<!--\n",
    "BEGIN QUESTION\n",
    "name: q_background_germany\n",
    "points: 2\n",
    "manual: true\n",
    "-->"
   ]
  },
  {
   "cell_type": "markdown",
   "id": "animal-dancing",
   "metadata": {},
   "source": [
    "_Type your answer here, replacing this text._"
   ]
  },
  {
   "cell_type": "markdown",
   "metadata": {
    "deletable": false,
    "editable": false
   },
   "source": [
    "<!-- END QUESTION -->\n",
    "\n",
    "<!-- BEGIN QUESTION -->\n",
    "\n",
    "**Question - The PRB report divides the world's countries into four groups according to the stage of the demographic transition they are in. Which stage of the demographic transition covers the largest share of the world population?**\n",
    "<!--\n",
    "BEGIN QUESTION\n",
    "name: q_background_largeststage\n",
    "points: 2\n",
    "manual: true\n",
    "-->"
   ]
  },
  {
   "cell_type": "markdown",
   "id": "virgin-resistance",
   "metadata": {},
   "source": [
    "_Type your answer here, replacing this text._"
   ]
  },
  {
   "cell_type": "markdown",
   "metadata": {
    "slideshow": {
     "slide_type": "subslide"
    }
   },
   "source": [
    "<!-- END QUESTION -->\n",
    "\n",
    "\n",
    "\n",
    "## Part II - Looking at data [15 pts]"
   ]
  },
  {
   "cell_type": "markdown",
   "metadata": {},
   "source": [
    "In this part of the homework, we'll dive into the UNPD data to examine the last 60 or so years of demographic change."
   ]
  },
  {
   "cell_type": "markdown",
   "metadata": {},
   "source": [
    "In addition to the reading you did for the first part of the homework, you can look at the [slides from lecture](https://docs.google.com/presentation/d/1DWktoPIhzQByRfruyIkqrJKtlP__79E9fsThni4JeIA/edit?usp=sharing) to review the main points of the demographic transition."
   ]
  },
  {
   "cell_type": "markdown",
   "metadata": {},
   "source": [
    "**Load the UNPD mortality data**"
   ]
  },
  {
   "cell_type": "markdown",
   "metadata": {},
   "source": [
    "First, we'll read in a dataset that has life tables for all of the countries around the world in the time period 2010-2015:"
   ]
  },
  {
   "cell_type": "code",
   "execution_count": 2,
   "metadata": {},
   "outputs": [],
   "source": [
    "unpd_lt = Table.read_table('data/unpd_life_tables_cleaned.csv')\n",
    "unpd_lt"
   ]
  },
  {
   "cell_type": "markdown",
   "metadata": {},
   "source": [
    "You can see that there are life tables for the time period from 2010 to 2015 for many countries in this dataset."
   ]
  },
  {
   "cell_type": "markdown",
   "metadata": {},
   "source": [
    "**Load the UNPD fertility data**"
   ]
  },
  {
   "cell_type": "markdown",
   "metadata": {},
   "source": [
    "Next, we'll read in a couple of datasets that have estimated fertility measures for all of the countries in the world (we used these datasets in Lab 03). \n",
    "\n",
    "We'll start by loading estimated Total Fertility Rates (TFRs):"
   ]
  },
  {
   "cell_type": "code",
   "execution_count": 3,
   "metadata": {},
   "outputs": [],
   "source": [
    "unpd_tfr = Table.read_table('data/unpd_tfr_cleaned.csv')\n",
    "unpd_tfr"
   ]
  },
  {
   "cell_type": "markdown",
   "metadata": {},
   "source": [
    "We'll start by extracting life expectancy at birth for males and for females from each country. As we've discussed over the past couple of classes, life expectancy at birth is a widely used indicator for the mortality experience of a population."
   ]
  },
  {
   "cell_type": "markdown",
   "metadata": {
    "deletable": false,
    "editable": false
   },
   "source": [
    "**Question - Write some code that will produce a dataset that has the columns `area`, `period`, `sex`, `age`, and `e` (where `e` is life expectancy at birth).**  \n",
    "*[HINT: You should only need to use `where` and `select`]*\n",
    "<!--\n",
    "BEGIN QUESTION\n",
    "name: q_unpd_e0\n",
    "points: 2\n",
    "-->"
   ]
  },
  {
   "cell_type": "code",
   "execution_count": 4,
   "metadata": {},
   "outputs": [],
   "source": [
    "unpd_e0 = unpd_lt....\n",
    "unpd_e0"
   ]
  },
  {
   "cell_type": "code",
   "execution_count": null,
   "id": "fancy-train",
   "metadata": {
    "deletable": false,
    "editable": false
   },
   "outputs": [],
   "source": [
    "grader.check(\"q_unpd_e0\")"
   ]
  },
  {
   "cell_type": "markdown",
   "metadata": {
    "deletable": false,
    "editable": false
   },
   "source": [
    "**Question - make a list that has all of the periods in the `unpd_lt` dataset**\n",
    "<!--\n",
    "BEGIN QUESTION\n",
    "name: q_all_time_periods\n",
    "points: 1\n",
    "-->"
   ]
  },
  {
   "cell_type": "code",
   "execution_count": 7,
   "metadata": {},
   "outputs": [],
   "source": [
    "all_periods = ...\n",
    "all_periods"
   ]
  },
  {
   "cell_type": "code",
   "execution_count": null,
   "id": "proprietary-liberal",
   "metadata": {
    "deletable": false,
    "editable": false
   },
   "outputs": [],
   "source": [
    "grader.check(\"q_all_time_periods\")"
   ]
  },
  {
   "cell_type": "markdown",
   "metadata": {
    "deletable": false,
    "editable": false
   },
   "source": [
    "**Question - Fill in the code below to produce a function that calculates female child mortality from the life table for the given country and year.**  \n",
    "*[HINT: We did something similar to this in one of the Labs]*\n",
    "<!--\n",
    "BEGIN QUESTION\n",
    "name: q_get_f_child_mortality\n",
    "points: 4\n",
    "-->"
   ]
  },
  {
   "cell_type": "code",
   "execution_count": 10,
   "metadata": {},
   "outputs": [],
   "source": [
    "def get_f_child_mortality(country, year):\n",
    "    \"\"\"\n",
    "    Given the data for a life table, calculate the life table probability of death between \n",
    "    ages 0 and age 5.\n",
    "    \n",
    "    NOTE: this assumes that the life table is sorted by age; in particular, the first row\n",
    "    (index 0) should be age 0, and the third row (index 2) should be age group 5.\n",
    "    (The UNPD dataset should satisfy this requirement.)\n",
    "    \"\"\"\n",
    "    \n",
    "    lt_data = ...\n",
    "    \n",
    "    # calculate the life table probability of a child surviving from birth to age 5\n",
    "    child_survival = ...\n",
    "    \n",
    "    # the probability of death is 1 - the probability of surviving\n",
    "    child_mortality = 1 - child_survival\n",
    "\n",
    "    return(child_mortality)\n",
    "\n",
    "france_5q0_2010 = get_f_child_mortality('France', 2010)\n",
    "france_5q0_2010"
   ]
  },
  {
   "cell_type": "code",
   "execution_count": null,
   "id": "future-bargain",
   "metadata": {
    "deletable": false,
    "editable": false
   },
   "outputs": [],
   "source": [
    "grader.check(\"q_get_f_child_mortality\")"
   ]
  },
  {
   "cell_type": "markdown",
   "metadata": {},
   "source": [
    "In practice, we'll actually want to grab all of the child mortality estimates over time for a particular country. Let's write a function to make that a bit easier."
   ]
  },
  {
   "cell_type": "markdown",
   "metadata": {
    "deletable": false,
    "editable": false
   },
   "source": [
    "**Question - fill in the code below to produce a function that returns female child mortality for a particular country over all of the periods in the UNPD data.**\n",
    "<!--\n",
    "BEGIN QUESTION\n",
    "name: q_get_f_child_mortality_over_time\n",
    "points: 4\n",
    "-->"
   ]
  },
  {
   "cell_type": "code",
   "execution_count": 12,
   "metadata": {},
   "outputs": [],
   "source": [
    "def get_f_child_mortality_over_time(country):\n",
    "    result = Table(labels=['area', 'period', 'child_mort'])\n",
    "    \n",
    "    for period in ...:\n",
    "        ## cur_child_mort should have child mortality for the current\n",
    "        ## country and time period        \n",
    "        cur_child_mort = ...\n",
    "\n",
    "        ## this builds up a Table with the results, row by row        \n",
    "        result = result.with_row([country, period, cur_child_mort])\n",
    "    \n",
    "    return(result)\n",
    "\n",
    "swe_5q0 = get_f_child_mortality_over_time('Sweden')\n",
    "swe_5q0"
   ]
  },
  {
   "cell_type": "code",
   "execution_count": null,
   "id": "isolated-gathering",
   "metadata": {
    "deletable": false,
    "editable": false
   },
   "outputs": [],
   "source": [
    "grader.check(\"q_get_f_child_mortality_over_time\")"
   ]
  },
  {
   "cell_type": "markdown",
   "metadata": {},
   "source": [
    "Finally -- we're almost there! -- let's write a function that will return info about fertility, life expectancy, and child mortality for a given country over all of the time periods in the UNPD data."
   ]
  },
  {
   "cell_type": "markdown",
   "metadata": {
    "deletable": false,
    "editable": false
   },
   "source": [
    "**Question - Fill in the code below to produce a function that return a Table that has TFR, life expectancy, and child mortality over time for a given country and sex.**  \n",
    "*[HINT: you should use the `unpd_tfr` and `unpd_e0` datasets, and you'll also need the `get_f_child_mortality_over_time` function. You'll also use `join`.]*\n",
    "<!--\n",
    "BEGIN QUESTION\n",
    "name: q_get_trends\n",
    "points: 4\n",
    "-->"
   ]
  },
  {
   "cell_type": "code",
   "execution_count": 17,
   "metadata": {},
   "outputs": [],
   "source": [
    "def get_trends(country):\n",
    "    \n",
    "    ## get TFR over time\n",
    "    tfr_dat = ...\n",
    "    \n",
    "    ## get female e0 over time\n",
    "    e0_dat = ...\n",
    "    \n",
    "    ## get child mortality over time\n",
    "    child_mort_dat = ...\n",
    "    \n",
    "    ## combine TFR, e0, and child mortality into a single Table\n",
    "    country_dat = tfr_dat....\n",
    "    \n",
    "    ## keep only the columns we need\n",
    "    country_dat = country_dat.select('area', 'period', 'sex', 'tfr', 'e', 'child_mort')\n",
    "    \n",
    "    return(country_dat)\n",
    "    \n",
    "france_trends = get_trends('France')\n",
    "france_trends"
   ]
  },
  {
   "cell_type": "code",
   "execution_count": null,
   "id": "altered-xerox",
   "metadata": {
    "deletable": false,
    "editable": false
   },
   "outputs": [],
   "source": [
    "grader.check(\"q_get_trends\")"
   ]
  },
  {
   "cell_type": "markdown",
   "metadata": {},
   "source": [
    "OK, now we have written some tools that will help us easily explore the demographic transition over the past 60 or so years."
   ]
  },
  {
   "cell_type": "markdown",
   "metadata": {
    "deletable": false,
    "editable": false
   },
   "source": [
    "<!-- BEGIN QUESTION -->\n",
    "\n",
    "**Question - if the demographic transition theory was exactly right, what would you expect to see happen to (a) mortality and (b) fertility in a country whose transition started around 1950?**\n",
    "<!--\n",
    "BEGIN QUESTION\n",
    "name: q_comment_transition_prediction\n",
    "points: 2\n",
    "manual: true\n",
    "-->"
   ]
  },
  {
   "cell_type": "markdown",
   "id": "supported-geneva",
   "metadata": {},
   "source": [
    "_Type your answer here, replacing this text._"
   ]
  },
  {
   "cell_type": "markdown",
   "metadata": {
    "deletable": false,
    "editable": false
   },
   "source": [
    "<!-- END QUESTION -->\n",
    "\n",
    "<!-- BEGIN QUESTION -->\n",
    "\n",
    "**Question - When thinking about the demographic transition, we've mainly discussed overall mortality (which is captured here by life expectancy). In a second, we'll look at child mortality as well as life expectancy. How would you predict that child mortality will factor into the demographic transition? Do you think that it will (a) not be related to changes in life expectancy or fertility; (b) play the same role as life expectancy (i.e., change in the same was as life expectancy); or (c) play a different role from life expectancy? Why?** \n",
    "<!--\n",
    "BEGIN QUESTION\n",
    "name: q_comment_childmort\n",
    "points: 2\n",
    "manual: true\n",
    "-->"
   ]
  },
  {
   "cell_type": "markdown",
   "id": "offshore-burton",
   "metadata": {},
   "source": [
    "_Type your answer here, replacing this text._"
   ]
  },
  {
   "cell_type": "markdown",
   "metadata": {},
   "source": [
    "<!-- END QUESTION -->\n",
    "\n",
    "\n",
    "\n",
    "This helper function takes the data produced by `get_trends` (which you just wrote) and plots it nicely. Here's an example showing the trends for Kenya."
   ]
  },
  {
   "cell_type": "code",
   "execution_count": 22,
   "metadata": {},
   "outputs": [],
   "source": [
    "def plot_trends(country):\n",
    "    dat = get_trends(country)\n",
    "    dat.plot('period', 'e')\n",
    "    plt.title(country + '- female life expectancy');\n",
    "    dat.plot('period', 'tfr')\n",
    "    plt.title(country + ' - TFR');\n",
    "    dat.plot('period', 'child_mort')\n",
    "    plt.title(country + ' - child mortality');\n",
    "\n",
    "plot_trends('Kenya')"
   ]
  },
  {
   "cell_type": "markdown",
   "metadata": {
    "deletable": false,
    "editable": false
   },
   "source": [
    "<!-- BEGIN QUESTION -->\n",
    "\n",
    "**Question - Use `get_trends` to plot the trends for the four countries discussed in the PRB report that you read for part I**  \n",
    "<!--\n",
    "BEGIN QUESTION\n",
    "name: q_plot_4country_trends\n",
    "points: 4\n",
    "manual: true\n",
    "-->"
   ]
  },
  {
   "cell_type": "code",
   "execution_count": 23,
   "metadata": {
    "scrolled": false
   },
   "outputs": [],
   "source": [
    "...\n",
    "...\n",
    "...\n",
    "..."
   ]
  },
  {
   "cell_type": "markdown",
   "metadata": {
    "deletable": false,
    "editable": false
   },
   "source": [
    "<!-- END QUESTION -->\n",
    "\n",
    "<!-- BEGIN QUESTION -->\n",
    "\n",
    "**Question - Now that you have seen the data, would you say that the prediction you made about the role of child mortality was accurate? Why or why not?**\n",
    "<!--\n",
    "BEGIN QUESTION\n",
    "name: q_comment_wasiright\n",
    "points: 2\n",
    "manual: true\n",
    "-->"
   ]
  },
  {
   "cell_type": "markdown",
   "id": "liberal-beads",
   "metadata": {},
   "source": [
    "_Type your answer here, replacing this text._"
   ]
  },
  {
   "cell_type": "markdown",
   "metadata": {},
   "source": [
    "<!-- END QUESTION -->\n",
    "\n",
    "\n",
    "\n",
    "### Growth"
   ]
  },
  {
   "cell_type": "markdown",
   "metadata": {
    "deletable": false,
    "editable": false
   },
   "source": [
    "<!-- BEGIN QUESTION -->\n",
    "\n",
    "**Question - According to the demographic transition theory, if a country started a demographic transition around 1950 and finished around 2010, what would you expect to see happen to an indicator of population growth such as RONI or the instrinsic growth rate $r$ over that period?**\n",
    "<!--\n",
    "BEGIN QUESTION\n",
    "name: q_comment_demtrans_r_prediction\n",
    "points: 2\n",
    "manual: true\n",
    "-->"
   ]
  },
  {
   "cell_type": "markdown",
   "id": "atmospheric-adelaide",
   "metadata": {},
   "source": [
    "_Type your answer here, replacing this text._"
   ]
  },
  {
   "cell_type": "markdown",
   "metadata": {},
   "source": [
    "<!-- END QUESTION -->\n",
    "\n",
    "\n",
    "\n",
    "Now, let's write some code to look at growth in the UNPD data."
   ]
  },
  {
   "cell_type": "markdown",
   "metadata": {},
   "source": [
    "First, we'll open up the UNPD crude birth rate estimates:"
   ]
  },
  {
   "cell_type": "code",
   "execution_count": 24,
   "metadata": {},
   "outputs": [],
   "source": [
    "unpd_cbr = Table.read_table('data/unpd_cbr_cleaned.csv').select(['area', 'period', 'cbr'])\n",
    "unpd_cbr"
   ]
  },
  {
   "cell_type": "markdown",
   "metadata": {},
   "source": [
    "And then we'll open up the UNPD crude birth rate estimates:"
   ]
  },
  {
   "cell_type": "code",
   "execution_count": 25,
   "metadata": {},
   "outputs": [],
   "source": [
    "unpd_cdr = Table.read_table('data/unpd_cdr_cleaned.csv').select(['area', 'period', 'cdr'])\n",
    "unpd_cdr"
   ]
  },
  {
   "cell_type": "markdown",
   "metadata": {},
   "source": [
    "The `join` function in the datascience package can only join on one column at once. Here, we need to line cbr and cdr up by country and by year simultaneously. So we'll have to turn to the `pandas` package to do this. (Don't worry if you haven't seen this before - I don't think it is covered in Data 8.)"
   ]
  },
  {
   "cell_type": "code",
   "execution_count": 26,
   "metadata": {},
   "outputs": [],
   "source": [
    "unpd_roni = pd.merge(unpd_cbr.to_df(), unpd_cdr.to_df())\n",
    "unpd_roni = Table.from_df(unpd_roni)\n",
    "unpd_roni"
   ]
  },
  {
   "cell_type": "markdown",
   "metadata": {
    "deletable": false,
    "editable": false
   },
   "source": [
    "**Question - Fill in the code below to calculate the rate of natural increase (RONI) for each country year.**\n",
    "<!--\n",
    "BEGIN QUESTION\n",
    "name: q_roni\n",
    "points: 2\n",
    "-->"
   ]
  },
  {
   "cell_type": "code",
   "execution_count": 27,
   "metadata": {},
   "outputs": [],
   "source": [
    "unpd_roni = unpd_roni.with_column('roni',\n",
    "                                  ...)\n",
    "unpd_roni"
   ]
  },
  {
   "cell_type": "code",
   "execution_count": null,
   "id": "sudden-baking",
   "metadata": {
    "deletable": false,
    "editable": false
   },
   "outputs": [],
   "source": [
    "grader.check(\"q_roni\")"
   ]
  },
  {
   "cell_type": "markdown",
   "metadata": {},
   "source": [
    "It will be helpful to write a helper function to grab the time series of RONI values for a specific country."
   ]
  },
  {
   "cell_type": "markdown",
   "metadata": {
    "deletable": false,
    "editable": false
   },
   "source": [
    "**Question - Fill in the code below to produce a function that returns a Table with the RONI values for a given country over time.**\n",
    "<!--\n",
    "BEGIN QUESTION\n",
    "name: q_get_roni_over_time\n",
    "points: 2\n",
    "-->"
   ]
  },
  {
   "cell_type": "code",
   "execution_count": 30,
   "metadata": {},
   "outputs": [],
   "source": [
    "def get_roni_over_time(country):\n",
    "    this_roni_data = ...\n",
    "    return(this_roni_data)\n",
    "\n",
    "ug_roni = get_roni_over_time('Uganda')\n",
    "ug_roni"
   ]
  },
  {
   "cell_type": "code",
   "execution_count": null,
   "id": "finite-sheriff",
   "metadata": {
    "deletable": false,
    "editable": false
   },
   "outputs": [],
   "source": [
    "grader.check(\"q_get_roni_over_time\")"
   ]
  },
  {
   "cell_type": "markdown",
   "metadata": {},
   "source": [
    "Finally, this function uses the `get_roni_over_time` function you just wrote to plot RONI values over time."
   ]
  },
  {
   "cell_type": "code",
   "execution_count": 34,
   "metadata": {},
   "outputs": [],
   "source": [
    "def plot_roni(country):\n",
    "    rd = get_roni_over_time(country)\n",
    "    rd.plot('period', 'roni')\n",
    "    plt.title(country + \" RONI\");\n",
    "    \n",
    "plot_roni(\"Kenya\")"
   ]
  },
  {
   "cell_type": "markdown",
   "metadata": {
    "deletable": false,
    "editable": false
   },
   "source": [
    "<!-- BEGIN QUESTION -->\n",
    "\n",
    "**Question - Use `plot_roni` to plot the RONI time series for each of the four countries discussed in the PRB Report you read in Part I.**\n",
    "<!--\n",
    "BEGIN QUESTION\n",
    "name: q_plot_roni_4countries\n",
    "points: 4\n",
    "manual: true\n",
    "-->"
   ]
  },
  {
   "cell_type": "code",
   "execution_count": 35,
   "metadata": {},
   "outputs": [],
   "source": [
    "...\n",
    "...\n",
    "...\n",
    "..."
   ]
  },
  {
   "cell_type": "markdown",
   "metadata": {
    "deletable": false,
    "editable": false
   },
   "source": [
    "<!-- END QUESTION -->\n",
    "\n",
    "<!-- BEGIN QUESTION -->\n",
    "\n",
    "**Question - Do these time trends in RONI seem consistent with the stage of the demographic transition each country is in?**\n",
    "<!--\n",
    "BEGIN QUESTION\n",
    "name: q_comment_roni_4countries\n",
    "points: 2\n",
    "manual: true\n",
    "-->"
   ]
  },
  {
   "cell_type": "markdown",
   "id": "friendly-atlas",
   "metadata": {},
   "source": [
    "_Type your answer here, replacing this text._"
   ]
  },
  {
   "cell_type": "markdown",
   "id": "enclosed-frost",
   "metadata": {
    "deletable": false,
    "editable": false
   },
   "source": [
    "---\n",
    "\n",
    "To double-check your work, the cell below will rerun all of the autograder tests."
   ]
  },
  {
   "cell_type": "code",
   "execution_count": null,
   "id": "strategic-graduate",
   "metadata": {
    "deletable": false,
    "editable": false
   },
   "outputs": [],
   "source": [
    "grader.check_all()"
   ]
  },
  {
   "cell_type": "markdown",
   "id": "nonprofit-hammer",
   "metadata": {
    "deletable": false,
    "editable": false
   },
   "source": [
    "## Submission\n",
    "\n",
    "Make sure you have run all cells in your notebook in order before running the cell below, so that all images/graphs appear in the output. The cell below will generate a zip file for you to submit. **Please save before exporting!**\n",
    "\n",
    "Please be sure to upload your submission to Gradescope."
   ]
  },
  {
   "cell_type": "code",
   "execution_count": null,
   "id": "sound-mainstream",
   "metadata": {
    "deletable": false,
    "editable": false
   },
   "outputs": [],
   "source": [
    "# Save your notebook first, then run this cell to export your submission.\n",
    "grader.export()"
   ]
  },
  {
   "cell_type": "markdown",
   "id": "functional-chosen",
   "metadata": {},
   "source": [
    " "
   ]
  }
 ],
 "metadata": {
  "anaconda-cloud": {},
  "kernelspec": {
   "display_name": "Python 3",
   "language": "python",
   "name": "python3"
  },
  "language_info": {
   "codemirror_mode": {
    "name": "ipython",
    "version": 3
   },
   "file_extension": ".py",
   "mimetype": "text/x-python",
   "name": "python",
   "nbconvert_exporter": "python",
   "pygments_lexer": "ipython3",
   "version": "3.7.7"
  }
 },
 "nbformat": 4,
 "nbformat_minor": 1
}
