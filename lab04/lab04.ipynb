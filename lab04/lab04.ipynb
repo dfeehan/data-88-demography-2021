{
 "cells": [
  {
   "cell_type": "code",
   "execution_count": null,
   "id": "altered-invite",
   "metadata": {
    "deletable": false,
    "editable": false
   },
   "outputs": [],
   "source": [
    "# Initialize Otter\n",
    "import otter\n",
    "grader = otter.Notebook(\"lab04.ipynb\")"
   ]
  },
  {
   "cell_type": "code",
   "execution_count": 40,
   "metadata": {},
   "outputs": [],
   "source": [
    "from IPython.core.display import HTML\n",
    "from datascience import *\n",
    "\n",
    "import matplotlib\n",
    "matplotlib.use('Agg')\n",
    "%matplotlib inline\n",
    "import matplotlib.pyplot as plt\n",
    "import numpy as np\n",
    "import os\n",
    "plt.style.use('fivethirtyeight')\n",
    "\n",
    "import pandas as pd\n",
    "import zipfile\n",
    "import io\n",
    "import math"
   ]
  },
  {
   "cell_type": "markdown",
   "metadata": {},
   "source": [
    "# Lab 04 - Introduction to population growth"
   ]
  },
  {
   "cell_type": "markdown",
   "metadata": {},
   "source": [
    "## Introductions"
   ]
  },
  {
   "cell_type": "markdown",
   "metadata": {
    "deletable": false,
    "editable": false
   },
   "source": [
    "<!-- BEGIN QUESTION -->\n",
    "\n",
    "**What is your partner's name?**\n",
    "<!--\n",
    "BEGIN QUESTION\n",
    "name: q_introname\n",
    "points: 1\n",
    "manual: True\n",
    "-->"
   ]
  },
  {
   "cell_type": "markdown",
   "id": "accurate-going",
   "metadata": {},
   "source": [
    "_Type your answer here, replacing this text._"
   ]
  },
  {
   "cell_type": "markdown",
   "metadata": {
    "deletable": false,
    "editable": false
   },
   "source": [
    "<!-- END QUESTION -->\n",
    "\n",
    "<!-- BEGIN QUESTION -->\n",
    "\n",
    "**What year is your partner in? (Freshman, Sophomore, etc)**\n",
    "<!--\n",
    "BEGIN QUESTION\n",
    "name: q_introyear\n",
    "points: 1\n",
    "manual: true\n",
    "-->"
   ]
  },
  {
   "cell_type": "markdown",
   "id": "covered-liberal",
   "metadata": {},
   "source": [
    "_Type your answer here, replacing this text._"
   ]
  },
  {
   "cell_type": "markdown",
   "metadata": {
    "deletable": false,
    "editable": false
   },
   "source": [
    "<!-- END QUESTION -->\n",
    "\n",
    "<!-- BEGIN QUESTION -->\n",
    "\n",
    "**Who is your partner's favorite band or singer?**\n",
    "<!--\n",
    "BEGIN QUESTION\n",
    "name: q_introband\n",
    "points: 1\n",
    "manual: true\n",
    "-->"
   ]
  },
  {
   "cell_type": "markdown",
   "id": "prescription-setup",
   "metadata": {},
   "source": [
    "_Type your answer here, replacing this text._"
   ]
  },
  {
   "cell_type": "markdown",
   "metadata": {},
   "source": [
    "<!-- END QUESTION -->\n",
    "\n",
    "\n",
    "\n",
    " "
   ]
  },
  {
   "cell_type": "markdown",
   "metadata": {},
   "source": [
    "## Growth"
   ]
  },
  {
   "cell_type": "markdown",
   "metadata": {},
   "source": [
    "Today, we started class by talking about population growth in general. The slides from today (which are linked to on Piazza) have the formulas we developed."
   ]
  },
  {
   "cell_type": "markdown",
   "metadata": {},
   "source": [
    "We'll start by opening up estimating population counts from the United Nations Population Division."
   ]
  },
  {
   "cell_type": "code",
   "execution_count": 41,
   "metadata": {},
   "outputs": [],
   "source": [
    "unpd_pop = Table.read_table('data/unpd_pop_cleaned.csv')\n",
    "unpd_pop"
   ]
  },
  {
   "cell_type": "markdown",
   "metadata": {},
   "source": [
    "Note that the population counts are reported in thousands of people. So Djibouti's 1950 `population` value of 62.001 means that UNPD estimates that there were 62.001 X 1000 = 62,001 people in Djibouti in 1950."
   ]
  },
  {
   "cell_type": "markdown",
   "metadata": {},
   "source": [
    "Following the pattern we've used in previous labs, we'll look closely at one country, and then we'll generalize our analysis."
   ]
  },
  {
   "cell_type": "markdown",
   "metadata": {
    "deletable": false,
    "editable": false
   },
   "source": [
    "**Question - Plot the population for Malawi over time (so, time on the x axis and population on the y axis)**\n",
    "<!--\n",
    "BEGIN QUESTION\n",
    "name: q_plot_malawi_popn\n",
    "points: 1\n",
    "-->"
   ]
  },
  {
   "cell_type": "code",
   "execution_count": 42,
   "metadata": {},
   "outputs": [],
   "source": [
    "..."
   ]
  },
  {
   "cell_type": "markdown",
   "metadata": {},
   "source": [
    "Now we'll deepen our understanding of growth rates by calculating the growth rate in Malawi from 1960 to 1961 by hand. We'll do this in two steps: first, we'll filter down to Malawi data; second, we'll look at those filtered data and plug the population for 1961 and 1960 into the formula for the growth rate $r$."
   ]
  },
  {
   "cell_type": "markdown",
   "metadata": {},
   "source": [
    "**Question - Grab the population data for Malawi**"
   ]
  },
  {
   "cell_type": "code",
   "execution_count": 43,
   "metadata": {},
   "outputs": [],
   "source": [
    "malawi = ...\n",
    "malawi.show()"
   ]
  },
  {
   "cell_type": "markdown",
   "metadata": {},
   "source": [
    "### The growth rate $r$"
   ]
  },
  {
   "cell_type": "markdown",
   "metadata": {},
   "source": [
    "As we discussed, we can measure the rate at which a population's size is changing over time by calculating the growth rate $r$. If a population starts out being size $K(0)$ at time $t=0$ and ends up being size $K(T)$ at time $t=T$, then the growth rate $r$ satisfies the equation"
   ]
  },
  {
   "cell_type": "markdown",
   "metadata": {},
   "source": [
    "$$\n",
    "K(T) = e^{rT}K(0).\n",
    "$$\n",
    "\n",
    "In particular, when we consider a time period of $T=1$ year, we have\n",
    "\n",
    "$$\n",
    "K(1) = e^{r}K(0).\n",
    "$$\n",
    "  \n",
    "We can now solve for $r$:\n",
    "  \n",
    "$$\n",
    "\\begin{aligned}\n",
    "e^{r} &= \\frac{K(1)}{K(0)}\\\\\n",
    "\\Leftrightarrow r &= \\log\\left(\\frac{K(1)}{K(0)}\\right)\\\\\n",
    "\\Leftrightarrow r &= \\log\\left(K(1)\\right) - \\log\\left(K(0)\\right).\n",
    "\\end{aligned}\n",
    "$$\n",
    "\n",
    "If we wish to express $r$ as a percentage, we can multiply it by 100."
   ]
  },
  {
   "cell_type": "markdown",
   "metadata": {
    "deletable": false,
    "editable": false
   },
   "source": [
    "**Question - Looking at the table above, calculate the growth rate $r$ for Malawi from 1960 to 1961.**\n",
    "<!--\n",
    "BEGIN QUESTION\n",
    "name: q_malawi_growth_rate\n",
    "points: 2\n",
    "-->"
   ]
  },
  {
   "cell_type": "code",
   "execution_count": 44,
   "metadata": {},
   "outputs": [],
   "source": [
    "## Malawi growth rate from 1960 to 1961\n",
    "malawi_r_1960 = ...\n",
    "malawi_r_1960"
   ]
  },
  {
   "cell_type": "code",
   "execution_count": null,
   "id": "recorded-values",
   "metadata": {
    "deletable": false,
    "editable": false
   },
   "outputs": [],
   "source": [
    "grader.check(\"q_malawi_growth_rate\")"
   ]
  },
  {
   "cell_type": "markdown",
   "metadata": {},
   "source": [
    "You should get an answer of $r \\approx 0.0222$, which is a growth rate of about 2.2 percent"
   ]
  },
  {
   "cell_type": "markdown",
   "metadata": {},
   "source": [
    "To develop some intuition for growth rates, we'll calculate growth rates for Malawi over time.  There are different ways to do this; since we're practicing loops in this class, we'll write a loop.  \n",
    "  \n",
    "The first step is to get a set of periods to loop over."
   ]
  },
  {
   "cell_type": "markdown",
   "metadata": {
    "deletable": false,
    "editable": false
   },
   "source": [
    "**Question - Get a list of the unique periods in the dataset**\n",
    "<!--\n",
    "BEGIN QUESTION\n",
    "name: q_unique_periods\n",
    "points: 1\n",
    "-->"
   ]
  },
  {
   "cell_type": "code",
   "execution_count": 46,
   "metadata": {},
   "outputs": [],
   "source": [
    "all_periods = ...\n",
    "all_periods"
   ]
  },
  {
   "cell_type": "code",
   "execution_count": null,
   "id": "experimental-settle",
   "metadata": {
    "deletable": false,
    "editable": false
   },
   "outputs": [],
   "source": [
    "grader.check(\"q_unique_periods\")"
   ]
  },
  {
   "cell_type": "markdown",
   "metadata": {
    "deletable": false,
    "editable": false
   },
   "source": [
    "**Question - Fill in the code of the loop below to calculate the growth rate in Malawi for all periods in the dataset, and to then plot the growth rates and the population. (Express growth rates as a percentage.)**  \n",
    "*[HINT: Since a growth rate is calculated from two time periods, you will end up with one fewer growth rate than time periods. For example, if there are 10 time periods, you will only be able to calculate 9 growth rates. This is why the `for` loops over `all_periods[1:]`]*\n",
    "<!--\n",
    "BEGIN QUESTION\n",
    "name: q_calculate_malawi_r_over_time\n",
    "points: 5\n",
    "-->"
   ]
  },
  {
   "cell_type": "code",
   "execution_count": 49,
   "metadata": {},
   "outputs": [],
   "source": [
    "country = 'Malawi'\n",
    "country_pop = unpd_pop.where(...)\n",
    "\n",
    "## SOLUTION\n",
    "growth_rates = make_array()\n",
    "\n",
    "for period in all_periods[1:]:\n",
    "    t0_pop = ...\n",
    "    t1_pop = ...\n",
    "    growth_rates = np.append(growth_rates,\n",
    "                             ...)\n",
    "\n",
    "country_r = Table().with_columns('period', ...,\n",
    "                                'r', ...)\n",
    "country_r\n",
    "country_r.plot('period')\n",
    "unpd_pop.where('area', are.equal_to(country)).sort('period').plot('period', 'population')"
   ]
  },
  {
   "cell_type": "code",
   "execution_count": null,
   "id": "narrow-charlotte",
   "metadata": {
    "deletable": false,
    "editable": false
   },
   "outputs": [],
   "source": [
    "grader.check(\"q_calculate_malawi_r_over_time\")"
   ]
  },
  {
   "cell_type": "markdown",
   "metadata": {},
   "source": [
    "**Question - The code you filled in above is very general, in the sense that you can change the value of the `country` variable to make it do the same analysis for any other country. To make it even more useful, turn it into a function called `plot_country_growth`. Your function should take the name of the country to plot as an argument, and it should produce the two plots that the loop above produced.**"
   ]
  },
  {
   "cell_type": "code",
   "execution_count": 53,
   "metadata": {},
   "outputs": [],
   "source": [
    "def plot_country_growth(country):\n",
    "    # (NB: this just means you have to fill in several lines, not necessarily exactly 3 of them)\n",
    "    ...\n",
    "    ...\n",
    "    ... "
   ]
  },
  {
   "cell_type": "code",
   "execution_count": 54,
   "metadata": {},
   "outputs": [],
   "source": [
    "# try your function out\n",
    "plot_country_growth('Sweden')"
   ]
  },
  {
   "cell_type": "markdown",
   "metadata": {},
   "source": [
    "**Question - Now use your function to plot the growth rate and population size over time for several different countries. (Try to pick a diverse set to explore.)**"
   ]
  },
  {
   "cell_type": "code",
   "execution_count": 55,
   "metadata": {},
   "outputs": [],
   "source": [
    "### explore several countries\n",
    "..."
   ]
  },
  {
   "cell_type": "markdown",
   "metadata": {
    "deletable": false,
    "editable": false
   },
   "source": [
    "<!-- BEGIN QUESTION -->\n",
    "\n",
    "**Question - What does your exploration suggest about the difference between the growth rate 𝑟 and the population size over time? For example, which of the two quantities tends to vary more?**\n",
    "<!--\n",
    "BEGIN QUESTION\n",
    "name: q_compare_r_population\n",
    "points: 2\n",
    "manual: true\n",
    "-->"
   ]
  },
  {
   "cell_type": "markdown",
   "id": "further-particle",
   "metadata": {},
   "source": [
    "_Type your answer here, replacing this text._"
   ]
  },
  {
   "cell_type": "markdown",
   "metadata": {},
   "source": [
    "<!-- END QUESTION -->\n",
    "\n",
    "\n",
    "\n",
    "Now we want to explore growth across many countries at a fixed point in time."
   ]
  },
  {
   "cell_type": "markdown",
   "metadata": {
    "deletable": false,
    "editable": false
   },
   "source": [
    "**Question - Get a list of the unique countries in the dataset**\n",
    "<!--\n",
    "BEGIN QUESTION\n",
    "name: q_all_countries\n",
    "points: 1\n",
    "-->"
   ]
  },
  {
   "cell_type": "code",
   "execution_count": 56,
   "metadata": {},
   "outputs": [],
   "source": [
    "all_countries = ...\n",
    "all_countries"
   ]
  },
  {
   "cell_type": "code",
   "execution_count": null,
   "id": "million-arkansas",
   "metadata": {
    "deletable": false,
    "editable": false
   },
   "outputs": [],
   "source": [
    "grader.check(\"q_all_countries\")"
   ]
  },
  {
   "cell_type": "markdown",
   "metadata": {
    "deletable": false,
    "editable": false
   },
   "source": [
    "**Fill in the code below to calculate the growth rate r from 1990 to 1991 in each country in the UNPD dataset.**\n",
    "*(This might take a few seconds to run)*\n",
    "<!--\n",
    "BEGIN QUESTION\n",
    "name: q_unpd_1990_r\n",
    "points: 3\n",
    "-->"
   ]
  },
  {
   "cell_type": "code",
   "execution_count": 59,
   "metadata": {},
   "outputs": [],
   "source": [
    "growth_rates = make_array()\n",
    "\n",
    "for country in all_countries:\n",
    "    t0_pop = ### take the population for the country/year from the unpd_pop dataset\n",
    "    t1_pop = ### take the population for the country/year from the unpd_pop dataset\n",
    "    \n",
    "    growth_rates = np.append(growth_rates,\n",
    "                            ...)\n",
    "\n",
    "unpd_1990_r = Table().with_columns('area', ...,\n",
    "                                   'r', ...)\n",
    "unpd_1990_r"
   ]
  },
  {
   "cell_type": "code",
   "execution_count": null,
   "id": "returning-produce",
   "metadata": {
    "deletable": false,
    "editable": false
   },
   "outputs": [],
   "source": [
    "grader.check(\"q_unpd_1990_r\")"
   ]
  },
  {
   "cell_type": "markdown",
   "metadata": {
    "deletable": false,
    "editable": false
   },
   "source": [
    "<!-- BEGIN QUESTION -->\n",
    "\n",
    "**Question - Make a histogram of growth rates across the world in 1990**\n",
    "<!--\n",
    "BEGIN QUESTION\n",
    "name: q_unpd_1990_r_hist\n",
    "points: 1\n",
    "manual: true\n",
    "-->"
   ]
  },
  {
   "cell_type": "code",
   "execution_count": 62,
   "metadata": {},
   "outputs": [],
   "source": [
    "..."
   ]
  },
  {
   "cell_type": "markdown",
   "metadata": {
    "deletable": false,
    "editable": false
   },
   "source": [
    "<!-- END QUESTION -->\n",
    "\n",
    "<!-- BEGIN QUESTION -->\n",
    "\n",
    "**Question - How much variation is there in growth rates around the world? What is a high and what is a low growth rate?**\n",
    "<!--\n",
    "BEGIN QUESTION\n",
    "name: q_r_variation\n",
    "points: 1\n",
    "manual: true\n",
    "-->"
   ]
  },
  {
   "cell_type": "markdown",
   "id": "critical-wings",
   "metadata": {},
   "source": [
    "_Type your answer here, replacing this text._"
   ]
  },
  {
   "cell_type": "markdown",
   "metadata": {},
   "source": [
    "<!-- END QUESTION -->\n",
    "\n",
    "\n",
    "\n",
    "### Doubling times"
   ]
  },
  {
   "cell_type": "markdown",
   "metadata": {},
   "source": [
    "**Question - Given a population's growth rate, what is the formula for its doubling time? What does the doubling time mean?**  \n",
    "*[HINT: You can look at the slides for today if you have forgotten the formula for doubling time]*\n",
    "```\n",
    "BEGIN QUESTIONS\n",
    "name: q_doubling_time_answer\n",
    "points: 1\n",
    "manual: true\n",
    "```"
   ]
  },
  {
   "cell_type": "markdown",
   "id": "billion-trouble",
   "metadata": {},
   "source": [
    "_Type your answer here, replacing this text._"
   ]
  },
  {
   "cell_type": "markdown",
   "metadata": {
    "deletable": false,
    "editable": false
   },
   "source": [
    "**Question - Write some code to add a new column `Tdbl` to the `unpd_1990_r` dataset; the new column should have the doubling time for each country.**  \n",
    "*[HINT: When calculating doubling time, be sure that the growth rate $r$ is not expressed as a percentage, but in its natural units]*\n",
    "<!--\n",
    "BEGIN QUESTION\n",
    "name: q_tdbl_unpd_1990_r\n",
    "points: 2\n",
    "-->"
   ]
  },
  {
   "cell_type": "code",
   "execution_count": 63,
   "metadata": {},
   "outputs": [],
   "source": [
    "unpd_1990_r = ...\n",
    "unpd_1990_r"
   ]
  },
  {
   "cell_type": "code",
   "execution_count": null,
   "id": "dominant-dance",
   "metadata": {
    "deletable": false,
    "editable": false
   },
   "outputs": [],
   "source": [
    "grader.check(\"q_tdbl_unpd_1990_r\")"
   ]
  },
  {
   "cell_type": "markdown",
   "metadata": {
    "deletable": false,
    "editable": false
   },
   "source": [
    "<!-- BEGIN QUESTION -->\n",
    "\n",
    "**Question - Make a histogram of doubling times across all of the countries in the world in 1990**\n",
    "<!--\n",
    "BEGIN QUESTION\n",
    "name: q_hist_tdbl\n",
    "points: 1\n",
    "manual: true\n",
    "-->"
   ]
  },
  {
   "cell_type": "code",
   "execution_count": 66,
   "metadata": {},
   "outputs": [],
   "source": [
    "..."
   ]
  },
  {
   "cell_type": "markdown",
   "metadata": {},
   "source": [
    "<!-- END QUESTION -->\n",
    "\n",
    "\n",
    "\n",
    "Your plot probably looks a little strange. This is because some of the growth rates are near 0. (Why might that cause the doubling time estimate to take on extreme values?)"
   ]
  },
  {
   "cell_type": "markdown",
   "metadata": {
    "deletable": false,
    "editable": false
   },
   "source": [
    "<!-- BEGIN QUESTION -->\n",
    "\n",
    "**Question - Make a histogram of doubling times for countries whose growth rate is greater than 0.1%**\n",
    "<!--\n",
    "BEGIN QUESTION\n",
    "name: q_hist_tdbl_rgt\n",
    "points: 1\n",
    "manual: true\n",
    "-->"
   ]
  },
  {
   "cell_type": "code",
   "execution_count": 67,
   "metadata": {},
   "outputs": [],
   "source": [
    "..."
   ]
  },
  {
   "cell_type": "markdown",
   "metadata": {
    "deletable": false,
    "editable": false
   },
   "source": [
    "<!-- END QUESTION -->\n",
    "\n",
    "**Question - If growth rates were held constant at their 1990 values, how many countries would double in size within 50 years?**\n",
    "<!--\n",
    "BEGIN QUESTION\n",
    "name: q_num_countries_double_50yrs\n",
    "points: 3\n",
    "-->"
   ]
  },
  {
   "cell_type": "code",
   "execution_count": 68,
   "metadata": {},
   "outputs": [],
   "source": [
    "num_double_within_50yrs = ...\n",
    "num_double_within_50yrs"
   ]
  },
  {
   "cell_type": "code",
   "execution_count": null,
   "id": "specified-sellers",
   "metadata": {
    "deletable": false,
    "editable": false
   },
   "outputs": [],
   "source": [
    "grader.check(\"q_num_countries_double_50yrs\")"
   ]
  },
  {
   "cell_type": "markdown",
   "metadata": {},
   "source": [
    "**Crude birth and death rates**"
   ]
  },
  {
   "cell_type": "markdown",
   "metadata": {},
   "source": [
    "Our final look at population growth will compare an alternate measure of growth, called the **rate of natural increase** (RONI) to the growth rate $r$.  \n",
    "  \n",
    "The rate of natural increase is defined as\n",
    "\n",
    "$$\n",
    "\\begin{aligned}\n",
    "\\text{RONI} &= \\text{CBR} - \\text{CDR}\\\\\n",
    "&= \\frac{B}{K} - \\frac{D}{K},\n",
    "\\end{aligned}\n",
    "$$\n",
    "\n",
    "where $\\text{CBR}$ is the crude birth rate, which is equal to the number of births $B$ divided by population size $K$; similarly, the crude death rate $\\text{CDR}$ is equal to the number of deaths $D$ divided by population size $K$."
   ]
  },
  {
   "cell_type": "markdown",
   "metadata": {
    "deletable": false,
    "editable": false
   },
   "source": [
    "<!-- BEGIN QUESTION -->\n",
    "\n",
    "**Question - Given the definition above, what range of RONI values would you expect a population to have when it is:  \n",
    "(a) Not changing in size?  \n",
    "(b) Shrinking?  \n",
    "(c) Growing?**\n",
    "<!--\n",
    "BEGIN QUESTION\n",
    "name: q_roni_change\n",
    "points: 3\n",
    "manual: true\n",
    "-->"
   ]
  },
  {
   "cell_type": "markdown",
   "id": "indie-expense",
   "metadata": {},
   "source": [
    "_Type your answer here, replacing this text._"
   ]
  },
  {
   "cell_type": "markdown",
   "metadata": {},
   "source": [
    "<!-- END QUESTION -->\n",
    "\n",
    "\n",
    "\n",
    "Now we'll calculate the rate of natural increase from UNPD data."
   ]
  },
  {
   "cell_type": "markdown",
   "metadata": {},
   "source": [
    "First, we'll open up the UNPD crude birth rate estimates:"
   ]
  },
  {
   "cell_type": "code",
   "execution_count": 70,
   "metadata": {},
   "outputs": [],
   "source": [
    "unpd_cbr = Table.read_table('data/unpd_cbr_cleaned.csv')\n",
    "unpd_cbr"
   ]
  },
  {
   "cell_type": "markdown",
   "metadata": {},
   "source": [
    "And then we'll open up the UNPD crude birth rate estimates:"
   ]
  },
  {
   "cell_type": "code",
   "execution_count": 71,
   "metadata": {},
   "outputs": [],
   "source": [
    "unpd_cdr = Table.read_table('data/unpd_cdr_cleaned.csv')\n",
    "unpd_cdr"
   ]
  },
  {
   "cell_type": "markdown",
   "metadata": {
    "deletable": false,
    "editable": false
   },
   "source": [
    "**Question - Fill in the code below to   \n",
    "(1) filter the crude birth and death rate data down to 1990 only  \n",
    "(2) then join the CBR and CDR data together  \n",
    "(3) finally, calculate RONI from the joined dataset; store it in a column called `roni`  \n",
    "*[NOTE: the CBR and CDR are reported in 1000s**\n",
    "<!--\n",
    "BEGIN QUESTION\n",
    "name: q_calculate_roni\n",
    "points: 5\n",
    "-->"
   ]
  },
  {
   "cell_type": "code",
   "execution_count": 72,
   "metadata": {},
   "outputs": [],
   "source": [
    "unpd_cbr_1990 = ...\n",
    "unpd_cdr_1990 = ...\n",
    "# now join cbr and cdr together\n",
    "unpd_roni_1990 = ...\n",
    "# and calculate roni\n",
    "unpd_roni_1990 = ...\n",
    "unpd_roni_1990"
   ]
  },
  {
   "cell_type": "code",
   "execution_count": null,
   "id": "graphic-therapist",
   "metadata": {
    "deletable": false,
    "editable": false
   },
   "outputs": [],
   "source": [
    "grader.check(\"q_calculate_roni\")"
   ]
  },
  {
   "cell_type": "markdown",
   "metadata": {},
   "source": [
    "What is the difference between the growth rate, $r$, and RONI? Let's find out!"
   ]
  },
  {
   "cell_type": "markdown",
   "metadata": {},
   "source": [
    "**Join the growth rates (from `unpd_1990_r`) into the RONI values you calculated in `unpd_roni_1990`.**"
   ]
  },
  {
   "cell_type": "code",
   "execution_count": 77,
   "metadata": {},
   "outputs": [],
   "source": [
    "unpd_roni_r = ...\n",
    "unpd_roni_r"
   ]
  },
  {
   "cell_type": "markdown",
   "metadata": {},
   "source": [
    "**Question - Make a scatterplot comparing RONI and the growth rate r**"
   ]
  },
  {
   "cell_type": "code",
   "execution_count": 78,
   "metadata": {},
   "outputs": [],
   "source": [
    "..."
   ]
  },
  {
   "cell_type": "markdown",
   "metadata": {
    "deletable": false,
    "editable": false
   },
   "source": [
    "<!-- BEGIN QUESTION -->\n",
    "\n",
    "**Question: RONI and r and very similar, but they are not identical. Thinking about how they are calculated, what might explain the differences between them?**\n",
    "<!--\n",
    "BEGIN QUESTION\n",
    "name: q_roni_vs_r_comment\n",
    "points: 2\n",
    "manual: true\n",
    "-->"
   ]
  },
  {
   "cell_type": "markdown",
   "id": "smart-zealand",
   "metadata": {},
   "source": [
    "_Type your answer here, replacing this text._"
   ]
  },
  {
   "cell_type": "markdown",
   "id": "assumed-husband",
   "metadata": {
    "deletable": false,
    "editable": false
   },
   "source": [
    "---\n",
    "\n",
    "To double-check your work, the cell below will rerun all of the autograder tests."
   ]
  },
  {
   "cell_type": "code",
   "execution_count": null,
   "id": "dated-contract",
   "metadata": {
    "deletable": false,
    "editable": false
   },
   "outputs": [],
   "source": [
    "grader.check_all()"
   ]
  },
  {
   "cell_type": "markdown",
   "id": "failing-prerequisite",
   "metadata": {
    "deletable": false,
    "editable": false
   },
   "source": [
    "## Submission\n",
    "\n",
    "Make sure you have run all cells in your notebook in order before running the cell below, so that all images/graphs appear in the output. The cell below will generate a zip file for you to submit. **Please save before exporting!**"
   ]
  },
  {
   "cell_type": "code",
   "execution_count": null,
   "id": "radio-progressive",
   "metadata": {
    "deletable": false,
    "editable": false
   },
   "outputs": [],
   "source": [
    "# Save your notebook first, then run this cell to export your submission.\n",
    "grader.export()"
   ]
  },
  {
   "cell_type": "markdown",
   "id": "dimensional-tissue",
   "metadata": {},
   "source": [
    " "
   ]
  }
 ],
 "metadata": {
  "anaconda-cloud": {},
  "kernelspec": {
   "display_name": "Python 3",
   "language": "python",
   "name": "python3"
  },
  "language_info": {
   "codemirror_mode": {
    "name": "ipython",
    "version": 3
   },
   "file_extension": ".py",
   "mimetype": "text/x-python",
   "name": "python",
   "nbconvert_exporter": "python",
   "pygments_lexer": "ipython3",
   "version": "3.7.7"
  }
 },
 "nbformat": 4,
 "nbformat_minor": 1
}
