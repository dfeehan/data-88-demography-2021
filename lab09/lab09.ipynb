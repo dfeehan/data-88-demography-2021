{
 "cells": [
  {
   "cell_type": "code",
   "execution_count": null,
   "id": "lasting-designer",
   "metadata": {
    "deletable": false,
    "editable": false
   },
   "outputs": [],
   "source": [
    "# Initialize Otter\n",
    "import otter\n",
    "grader = otter.Notebook(\"lab09.ipynb\")"
   ]
  },
  {
   "cell_type": "code",
   "execution_count": 1,
   "metadata": {},
   "outputs": [],
   "source": [
    "from IPython.core.display import HTML\n",
    "from datascience import *\n",
    "import plotly.express as px\n",
    "\n",
    "import matplotlib\n",
    "matplotlib.use('Agg')\n",
    "%matplotlib inline\n",
    "import matplotlib.pyplot as plt\n",
    "import numpy as np\n",
    "import os\n",
    "plt.style.use('fivethirtyeight')\n",
    "\n",
    "import pandas as pd\n",
    "import zipfile\n",
    "import io\n",
    "import math"
   ]
  },
  {
   "cell_type": "markdown",
   "metadata": {},
   "source": [
    "# Lab 09 - Final project"
   ]
  },
  {
   "cell_type": "markdown",
   "metadata": {},
   "source": [
    "## The final project"
   ]
  },
  {
   "cell_type": "markdown",
   "metadata": {},
   "source": [
    "There is a detailed description of the final project in this Google Doc:\n",
    "\n",
    "[https://docs.google.com/document/d/1BCs5wu50_XHgrbQaR3vutUAIEGs_RiplPlnBB9ZNcGE/edit?usp=sharing](https://docs.google.com/document/d/1BCs5wu50_XHgrbQaR3vutUAIEGs_RiplPlnBB9ZNcGE/edit?usp=sharing)\n",
    "\n",
    "Please read this document carefully. It has important due dates and outlines exactly what the project's goals and requirements are."
   ]
  },
  {
   "cell_type": "markdown",
   "metadata": {},
   "source": [
    "### Partner"
   ]
  },
  {
   "cell_type": "markdown",
   "metadata": {
    "deletable": false,
    "editable": false
   },
   "source": [
    "<!-- BEGIN QUESTION -->\n",
    "\n",
    "**What is your partner's name?**\n",
    "<!--\n",
    "BEGIN QUESTION\n",
    "name: q_introname\n",
    "points: 1\n",
    "manual: True\n",
    "-->"
   ]
  },
  {
   "cell_type": "markdown",
   "id": "thorough-halloween",
   "metadata": {},
   "source": [
    "_Type your answer here, replacing this text._"
   ]
  },
  {
   "cell_type": "markdown",
   "metadata": {
    "deletable": false,
    "editable": false
   },
   "source": [
    "<!-- END QUESTION -->\n",
    "\n",
    "<!-- BEGIN QUESTION -->\n",
    "\n",
    "**About how many minutes long should the presentation you and your partner give in class be?**\n",
    "<!--\n",
    "BEGIN QUESTION\n",
    "name: q_presentation_length\n",
    "points: 1\n",
    "manual: True\n",
    "-->"
   ]
  },
  {
   "cell_type": "markdown",
   "id": "present-chuck",
   "metadata": {},
   "source": [
    "_Type your answer here, replacing this text._"
   ]
  },
  {
   "cell_type": "markdown",
   "metadata": {},
   "source": [
    "<!-- END QUESTION -->\n",
    "\n",
    "\n",
    "\n",
    "## COVID-19 Data"
   ]
  },
  {
   "cell_type": "markdown",
   "metadata": {},
   "source": [
    "For the final project, we will be analyzing data related to the Covid-19 pandemic.\n",
    "\n",
    "To get you started, we're providing you with the datsets that are contained in the `R` package `covdata`, whose website is here: \n",
    "\n",
    "[https://kjhealy.github.io/covdata/](https://kjhealy.github.io/covdata/) (website)   \n",
    "[https://kjhealy.github.io/covdata/articles/codebook.html](https://kjhealy.github.io/covdata/articles/codebook.html) (codebook)\n",
    "\n",
    "We've copied the datasets into datahub, so you won't have to use `R` at all. But you should look at the `covdata` website to get a sense of the different datasets that are available.\n",
    "For some of these datasets, you might have to dig a little deeper to the source who created the data to get more information.\n",
    "\n",
    "Of course, you might also want to either combine these datasets with other data that you find or even just use other data entirely. That is OK as long as you clear it with me first.\n",
    "\n",
    "Here is a list of all of the files we are including. There are many! You should not feel like you have to use more than one of these (though you are welcome to do so). The goal is to have a lot of different options, so that you can explore a question that is interesting to you."
   ]
  },
  {
   "cell_type": "markdown",
   "metadata": {},
   "source": [
    "    - project-data/apple_mobility.csv.gz\n",
    "    - project-data/cdc_catchments.csv.gz \n",
    "    - project-data/cdc_deaths_by_age.csv.gz \n",
    "    - project-data/cdc_deaths_by_sex.csv.gz \n",
    "    - project-data/cdc_deaths_by_state.csv.gz \n",
    "    - project-data/cdc_deaths_by_week.csv.gz \n",
    "    - project-data/countries.csv.gz \n",
    "    - project-data/covnat_daily.csv.gz \n",
    "    - project-data/covnat_weekly.csv.gz \n",
    "    - project-data/covus.csv.gz \n",
    "    - project-data/covus_ethnicity.csv.gz \n",
    "    - project-data/covus_race.csv.gz \n",
    "    - project-data/nchs_sas.csv.gz \n",
    "    - project-data/nchs_wdc.csv.gz \n",
    "    - project-data/nchs_wss.csv.gz \n",
    "    - project-data/nssp_covid_er_nat.csv.gz \n",
    "    - project-data/nssp_covid_er_reg.csv.gz \n",
    "    - project-data/nytcovcounty.csv.gz \n",
    "    - project-data/nytcovstate.csv.gz \n",
    "    - project-data/nytcovus.csv.gz \n",
    "    - project-data/nytexcess.csv.gz \n",
    "    - project-data/stmf.csv.gz \n",
    "    - project-data/uspop.csv.gz"
   ]
  },
  {
   "cell_type": "markdown",
   "metadata": {},
   "source": [
    "As an example, let's check out `stmf.csv.gz`. "
   ]
  },
  {
   "cell_type": "code",
   "execution_count": 2,
   "metadata": {},
   "outputs": [],
   "source": [
    "# pandas\n",
    "stmf = pd.read_csv(\"project-data/stmf.csv.gz\")\n",
    "\n",
    "# data8 table.where\n",
    "stmf_2 = Table().read_table(\"project-data/stmf.csv.gz\")"
   ]
  },
  {
   "cell_type": "code",
   "execution_count": 3,
   "metadata": {},
   "outputs": [],
   "source": [
    "stmf_2"
   ]
  },
  {
   "cell_type": "code",
   "execution_count": 4,
   "metadata": {
    "scrolled": true
   },
   "outputs": [],
   "source": [
    "current_us = stmf.loc[(stmf['iso2'] == 'US') & (stmf['year'] >= 2020) & (stmf['week'] >= 8)]\n",
    "current_us = current_us.drop(['country_code', 'cname', 'iso2'], axis = 1).groupby('approx_date').agg(np.mean).reset_index()\n",
    "\n",
    "fig = px.line(current_us, x = \"approx_date\", y = \"death_count\")\n",
    "fig.update_layout(title = 'Average Weekly Number of Deaths by Month — United States',\n",
    "                   xaxis_title = 'Approximate Date',\n",
    "                   yaxis_title = 'Avg. Death Count')\n",
    "\n",
    "# * Deaths include U.S. residents only."
   ]
  },
  {
   "cell_type": "code",
   "execution_count": 5,
   "metadata": {},
   "outputs": [],
   "source": [
    "test = stmf.loc[(stmf['year'] >= 2020) & (stmf['week'] >= 8)]\n",
    "test = test.groupby(['cname', 'continent', 'approx_date']).agg(np.mean).reset_index()\n",
    "test"
   ]
  },
  {
   "cell_type": "code",
   "execution_count": 6,
   "metadata": {},
   "outputs": [],
   "source": [
    "fig = px.scatter(test, x = \"approx_date\", y = \"death_rate\", size = 'death_count',\n",
    "                 hover_name = \"cname\", color = 'cname')\n",
    "fig.update_layout(title = 'Average Weekly Death Rate around the World (~March 2020 - Present)',\n",
    "                   xaxis_title = 'Approximate Date',\n",
    "                   yaxis_title = 'Avg. Death Rate')"
   ]
  },
  {
   "cell_type": "code",
   "execution_count": 7,
   "metadata": {},
   "outputs": [],
   "source": [
    "fig = px.scatter(test, x = \"approx_date\", y = \"death_count\", size = 'death_count',\n",
    "                 hover_name = \"cname\", color = 'cname')\n",
    "fig.update_layout(title = 'Average Weekly Death Count around the World (~March 2020 - Present)',\n",
    "                   xaxis_title = 'Approximate Date',\n",
    "                   yaxis_title = 'Avg. Death Count')"
   ]
  },
  {
   "cell_type": "code",
   "execution_count": 8,
   "metadata": {},
   "outputs": [],
   "source": [
    "# One thing to note: Why is there a gap in February 2021? Missing data for those countries?\n",
    "# Size of bubble indicates death_count\n",
    "# It seems like these countries follow an overall similar pattern through the months.\n",
    "# What can explain that steep increase in March and November?\n",
    "# March was the start of Covid-19 outbreak, I also remember November being a rough time for Covid (thanksgiving break)"
   ]
  },
  {
   "cell_type": "markdown",
   "id": "destroyed-complexity",
   "metadata": {
    "deletable": false,
    "editable": false
   },
   "source": [
    "---\n",
    "\n",
    "To double-check your work, the cell below will rerun all of the autograder tests."
   ]
  },
  {
   "cell_type": "code",
   "execution_count": null,
   "id": "lasting-pollution",
   "metadata": {
    "deletable": false,
    "editable": false
   },
   "outputs": [],
   "source": [
    "grader.check_all()"
   ]
  },
  {
   "cell_type": "markdown",
   "id": "listed-candle",
   "metadata": {
    "deletable": false,
    "editable": false
   },
   "source": [
    "## Submission\n",
    "\n",
    "Make sure you have run all cells in your notebook in order before running the cell below, so that all images/graphs appear in the output. The cell below will generate a zip file for you to submit. **Please save before exporting!**"
   ]
  },
  {
   "cell_type": "code",
   "execution_count": null,
   "id": "portuguese-facial",
   "metadata": {
    "deletable": false,
    "editable": false
   },
   "outputs": [],
   "source": [
    "# Save your notebook first, then run this cell to export your submission.\n",
    "grader.export()"
   ]
  },
  {
   "cell_type": "markdown",
   "id": "effective-playing",
   "metadata": {},
   "source": [
    " "
   ]
  }
 ],
 "metadata": {
  "anaconda-cloud": {},
  "kernelspec": {
   "display_name": "Python 3",
   "language": "python",
   "name": "python3"
  },
  "language_info": {
   "codemirror_mode": {
    "name": "ipython",
    "version": 3
   },
   "file_extension": ".py",
   "mimetype": "text/x-python",
   "name": "python",
   "nbconvert_exporter": "python",
   "pygments_lexer": "ipython3",
   "version": "3.7.7"
  }
 },
 "nbformat": 4,
 "nbformat_minor": 1
}
