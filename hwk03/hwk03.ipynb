{
 "cells": [
  {
   "cell_type": "code",
   "execution_count": null,
   "id": "monthly-withdrawal",
   "metadata": {
    "deletable": false,
    "editable": false
   },
   "outputs": [],
   "source": [
    "# Initialize Otter\n",
    "import otter\n",
    "grader = otter.Notebook(\"hwk03.ipynb\")"
   ]
  },
  {
   "cell_type": "code",
   "execution_count": 1,
   "metadata": {},
   "outputs": [],
   "source": [
    "from IPython.core.display import HTML\n",
    "from datascience import *\n",
    "\n",
    "import matplotlib\n",
    "matplotlib.use('Agg')\n",
    "%matplotlib inline\n",
    "import matplotlib.pyplot as plt\n",
    "import numpy as np\n",
    "import os\n",
    "plt.style.use('fivethirtyeight')\n",
    "\n",
    "import pandas as pd\n",
    "import zipfile\n",
    "import io\n",
    "import math"
   ]
  },
  {
   "cell_type": "markdown",
   "metadata": {},
   "source": [
    "# Hwk 03"
   ]
  },
  {
   "cell_type": "markdown",
   "metadata": {},
   "source": [
    "## Part I: Population growth and changes in mortality and fertility"
   ]
  },
  {
   "cell_type": "markdown",
   "metadata": {},
   "source": [
    "In Labs 05 and 06, we took a look at formal demography and population projections.  We discovered, among other things, that both fertility and mortality can affect the intrinsic growth rate: when fertility increases, the growth rate increases; and, when mortality decreases, the growth rate increases.\n",
    "\n",
    "In this part of the homework, we're going to (1) be sure we understand what different growth rates imply about population size over time; and (2) use the tools we developed in class to understand the relative importance of changes in fertility and mortality. In other words, we're going to try to determine which one makes a bigger difference to the growth rate."
   ]
  },
  {
   "cell_type": "markdown",
   "metadata": {},
   "source": [
    "As we did in Lab 6, we'll load the `leslie` module to make use of the various population projection functions."
   ]
  },
  {
   "cell_type": "code",
   "execution_count": 2,
   "metadata": {},
   "outputs": [],
   "source": [
    "import leslie"
   ]
  },
  {
   "cell_type": "markdown",
   "metadata": {},
   "source": [
    "We have added a new function, called `build_leslie_matrix`, to the `leslie` module. `build_leslie_matrix` takes two arguments:\n",
    "\n",
    "* `lt`, the first argument, is a lifetable, such as would be returned by the function `get_lt`\n",
    "* `asfr`, the second argument, is a set of age-specific fertility rates, such as would be returned by the function `get_asfr`"
   ]
  },
  {
   "cell_type": "markdown",
   "metadata": {},
   "source": [
    "Here is an example of `build_leslie_matrix` in action. The following code makes a Leslie matrix using (1) death rates for 1990 France (i.e. the 1990 France life table); and (2) fertility rates for 2000 Italy."
   ]
  },
  {
   "cell_type": "code",
   "execution_count": 3,
   "metadata": {},
   "outputs": [],
   "source": [
    "demo_lt = leslie.get_lt('France', 1990)\n",
    "demo_asfr = leslie.get_asfr('Italy', 2000)\n",
    "\n",
    "demo_lm = leslie.build_leslie_matrix(demo_lt, demo_asfr)\n",
    "demo_lm.shape"
   ]
  },
  {
   "cell_type": "markdown",
   "metadata": {},
   "source": [
    "You'll remember that before we've only made Leslie matrices based on the real-world experience of a particular country in a particular year. The nice thing about `build_leslie_matrix` is that we can give it any life table and fertility data we like -- we're not restricted to fertility and mortality that actually happened.\n",
    "\n",
    "What we're going to do now is to learn about whether changes in mortality or fertility have a bigger impact on the growth rate by constructing Leslie matrices for (i) a baseline scenario; (ii) fertility rates that are increased by 10%; (iii) mortality rates that are decreased by 10%. (We will look at mortality decreases and fertility increases since both with push the growth rate up, leading to more population growth.)"
   ]
  },
  {
   "cell_type": "markdown",
   "metadata": {},
   "source": [
    "## What affects the growth rate more: mortality or fertility?"
   ]
  },
  {
   "cell_type": "markdown",
   "metadata": {
    "deletable": false,
    "editable": false
   },
   "source": [
    "**Question - Grab the life tables and the fertility rates for 1990 Uganda and use `build_leslie_matrix` to make a Leslie matrix out of them.**\n",
    "<!--\n",
    "BEGIN QUESTION\n",
    "name: q_uganda_build_leslie\n",
    "points: 3\n",
    "-->"
   ]
  },
  {
   "cell_type": "code",
   "execution_count": 4,
   "metadata": {},
   "outputs": [],
   "source": [
    "...\n",
    "...\n",
    "\n",
    "uganda_90_lm = leslie.build_leslie_matrix(..., ...)\n",
    "uganda_90_lm"
   ]
  },
  {
   "cell_type": "code",
   "execution_count": null,
   "id": "reserved-rubber",
   "metadata": {
    "deletable": false,
    "editable": false
   },
   "outputs": [],
   "source": [
    "grader.check(\"q_uganda_build_leslie\")"
   ]
  },
  {
   "cell_type": "markdown",
   "metadata": {
    "deletable": false,
    "editable": false
   },
   "source": [
    "**Question - calculate the growth rate associated with the Leslie matrix you just created?**   \n",
    "*[HINT: the `leslie` package has a function called `get_growth_rate` based on the one you used in Lab 05]*.\n",
    "<!--\n",
    "BEGIN QUESTION\n",
    "name: q_uganda_r\n",
    "points: 1\n",
    "-->"
   ]
  },
  {
   "cell_type": "code",
   "execution_count": 7,
   "metadata": {},
   "outputs": [],
   "source": [
    "uganda_90_r = ...\n",
    "uganda_90_r"
   ]
  },
  {
   "cell_type": "code",
   "execution_count": null,
   "id": "phantom-attack",
   "metadata": {
    "deletable": false,
    "editable": false
   },
   "outputs": [],
   "source": [
    "grader.check(\"q_uganda_r\")"
   ]
  },
  {
   "cell_type": "markdown",
   "metadata": {
    "deletable": false,
    "editable": false
   },
   "source": [
    "<!-- BEGIN QUESTION -->\n",
    "\n",
    "**Question - Does the growth rate you just calculated imply (a) long-term population growth; (b) no long-term population change; or (c) long-term population decline?**\n",
    "<!--\n",
    "BEGIN QUESTION\n",
    "name: q_comment_uganda_r\n",
    "points: 2\n",
    "manual: true\n",
    "-->"
   ]
  },
  {
   "cell_type": "markdown",
   "id": "acceptable-compensation",
   "metadata": {},
   "source": [
    "_Type your answer here, replacing this text._"
   ]
  },
  {
   "cell_type": "markdown",
   "metadata": {},
   "source": [
    "<!-- END QUESTION -->\n",
    "\n",
    "\n",
    "\n",
    "Great - so we have our baseline scenario. Now we'll investigate whether the growth rate gets changed more by increasing birth rates by 10 percent, or by lowering death rates by 10 percent."
   ]
  },
  {
   "cell_type": "markdown",
   "metadata": {
    "deletable": false,
    "editable": false
   },
   "source": [
    "**Question - Make a copy of the 1990 Uganda age-specific fertility rate data and then change the fertility rates (the `asfr` column) to make them 10% higher.**   \n",
    "<!--\n",
    "BEGIN QUESTION\n",
    "name: q_uganda_high_asfr\n",
    "points: 2\n",
    "-->"
   ]
  },
  {
   "cell_type": "code",
   "execution_count": 9,
   "metadata": {},
   "outputs": [],
   "source": [
    "uganda_90_high_asfr = uganda_90_asfr.copy()\n",
    "...\n",
    "uganda_90_high_asfr"
   ]
  },
  {
   "cell_type": "code",
   "execution_count": null,
   "id": "greater-leisure",
   "metadata": {
    "deletable": false,
    "editable": false
   },
   "outputs": [],
   "source": [
    "grader.check(\"q_uganda_high_asfr\")"
   ]
  },
  {
   "cell_type": "markdown",
   "metadata": {
    "deletable": false,
    "editable": false
   },
   "source": [
    "**Question - Make a Leslie matrix out of the increased Uganda ASFRs and Uganda's 1990 life table.**\n",
    "<!--\n",
    "BEGIN QUESTION\n",
    "name: uganda_high_asfr_lm\n",
    "points: 2\n",
    "-->"
   ]
  },
  {
   "cell_type": "code",
   "execution_count": 11,
   "metadata": {},
   "outputs": [],
   "source": [
    "uganda_high_fert_lm = ...\n",
    "uganda_high_fert_lm"
   ]
  },
  {
   "cell_type": "code",
   "execution_count": null,
   "id": "voluntary-vatican",
   "metadata": {
    "deletable": false,
    "editable": false
   },
   "outputs": [],
   "source": [
    "grader.check(\"uganda_high_asfr_lm\")"
   ]
  },
  {
   "cell_type": "markdown",
   "metadata": {
    "deletable": false,
    "editable": false
   },
   "source": [
    "**Question - Now calculate the growth rate that results from increasing fertility rates by 10 percent.**\n",
    "<!--\n",
    "BEGIN QUESTION\n",
    "name: q_uganda_high_fert_r\n",
    "points: 2\n",
    "-->"
   ]
  },
  {
   "cell_type": "code",
   "execution_count": 14,
   "metadata": {},
   "outputs": [],
   "source": [
    "uganda_high_fert_r = ...\n",
    "uganda_high_fert_r"
   ]
  },
  {
   "cell_type": "code",
   "execution_count": null,
   "id": "senior-ranch",
   "metadata": {
    "deletable": false,
    "editable": false
   },
   "outputs": [],
   "source": [
    "grader.check(\"q_uganda_high_fert_r\")"
   ]
  },
  {
   "cell_type": "markdown",
   "metadata": {},
   "source": [
    "Now we'll turn to the final scenario, in which death rates are reduced by 10%.  This is a bit more complex than changing fertility rates: in the life table, when death rates change, that causes all of the other columns to change as well. So we've written a function that will take a life table and change the death rates (and all of the other columns) for you:"
   ]
  },
  {
   "cell_type": "code",
   "execution_count": 16,
   "metadata": {},
   "outputs": [],
   "source": [
    "def change_lt_death_rates(lt, change, radix=100000):\n",
    "    \"\"\"\n",
    "    Given a life table `lt`, such as would be returned by `get_lt()`,\n",
    "    change the death rates by multiplying them by `change`\n",
    "    \"\"\"\n",
    "    \n",
    "    ## NOTE: this function assumes the a column does not change\n",
    "    ## this is an approximation - a better approach would use graduation\n",
    "    \n",
    "    new_lt = lt.copy()\n",
    "\n",
    "    # update m\n",
    "    new_lt['death_rate'] = new_lt['death_rate'] * change\n",
    "\n",
    "    # update q, assuming a stays the same (an approximation!)\n",
    "    new_lt['q'] = (new_lt['age_interval_width']*new_lt['death_rate']) / \\\n",
    "                  (1 + (new_lt['age_interval_width'] - new_lt['a'])*new_lt['death_rate'])\n",
    "    new_lt['q'][-1] = 0\n",
    "\n",
    "    new_lt['p'] = 1 - new_lt['q']\n",
    "\n",
    "    new_lt['l'][0] = radix\n",
    "\n",
    "    for i in np.arange(start=1, stop=new_lt.num_rows):\n",
    "        new_lt['l'][i] = new_lt['l'][i-1] * new_lt['p'][i-1]\n",
    "\n",
    "    new_lt['d'] = np.append(new_lt['l'][:-1] - new_lt['l'][1:], new_lt['l'][-1])\n",
    "\n",
    "    new_lt['L'] = np.append((new_lt['l'][1:]*new_lt['age_interval_width'][:-1]) + \\\n",
    "                                (new_lt['d'][:-1]*new_lt['a'][:-1]),\\\n",
    "                                new_lt['l'][-1]/new_lt['death_rate'][-1])\n",
    "    \n",
    "    new_lt['T'] = np.flip(np.cumsum(new_lt['L']), axis=0)\n",
    "    \n",
    "    new_lt['e'] = new_lt['T']/new_lt['l']\n",
    "    \n",
    "    return(new_lt)\n",
    "\n",
    "## EXAMPLE: increase death rates for 2015 Canada by 10%\n",
    "new_canada_lt = change_lt_death_rates(leslie.get_lt('Canada', 2015), 1.1)\n",
    "new_canada_lt"
   ]
  },
  {
   "cell_type": "markdown",
   "metadata": {
    "deletable": false,
    "editable": false
   },
   "source": [
    "**Question - Use `change_lt_death_rates` to produce a new lifetable with Uganda's 1990 death rates decreased by 10%.**\n",
    "<!--\n",
    "BEGIN QUESTION\n",
    "name: q_uganda_low_mort_lt\n",
    "points: 2\n",
    "-->"
   ]
  },
  {
   "cell_type": "code",
   "execution_count": 17,
   "metadata": {},
   "outputs": [],
   "source": [
    "uganda_90_low_mort = ...\n",
    "uganda_90_low_mort"
   ]
  },
  {
   "cell_type": "code",
   "execution_count": 18,
   "metadata": {},
   "outputs": [],
   "source": [
    "## SOLUTION ##\n",
    "np.all(np.isclose(uganda_90_low_mort.sort('age').column('l'), np.array([ 100000.        ,   90404.77226289,   84020.22998037,   81512.80757699,   80148.28013978,   78597.21928117,   76512.43986196,   73780.81185709,   70778.20669182,   67418.65487262,   64028.97850365,   60586.81967234,   56724.82073579,   52201.82195324,   46391.54729107,   38784.81996299,   29262.78369323,   18933.37636218,    9576.92948656]), rtol=.005))"
   ]
  },
  {
   "cell_type": "markdown",
   "metadata": {
    "deletable": false,
    "editable": false
   },
   "source": [
    "**Question - Make a Leslie matrix out of the decreased death rates and Uganda's 1990 fertility rates.**\n",
    "<!--\n",
    "BEGIN QUESTION\n",
    "name: q_uganda_low_mort_lm\n",
    "points: 2\n",
    "-->"
   ]
  },
  {
   "cell_type": "code",
   "execution_count": 19,
   "metadata": {},
   "outputs": [],
   "source": [
    "uganda_low_mort_lm = ...\n",
    "uganda_low_mort_lm"
   ]
  },
  {
   "cell_type": "code",
   "execution_count": null,
   "id": "conventional-female",
   "metadata": {
    "deletable": false,
    "editable": false
   },
   "outputs": [],
   "source": [
    "grader.check(\"q_uganda_low_mort_lm\")"
   ]
  },
  {
   "cell_type": "markdown",
   "metadata": {
    "deletable": false,
    "editable": false
   },
   "source": [
    "**Question - what is the growth rate that results from reducing fertility rates by 10 percent?**\n",
    "<!--\n",
    "BEGIN QUESTION\n",
    "name: q_uganda_low_mort_r\n",
    "points: 2\n",
    "-->"
   ]
  },
  {
   "cell_type": "code",
   "execution_count": 22,
   "metadata": {},
   "outputs": [],
   "source": [
    "uganda_low_mort_r = ...\n",
    "uganda_low_mort_r"
   ]
  },
  {
   "cell_type": "code",
   "execution_count": 23,
   "metadata": {},
   "outputs": [],
   "source": [
    "np.isclose(uganda_low_mort_r, 0.034288990578645963, rtol=.005)"
   ]
  },
  {
   "cell_type": "markdown",
   "metadata": {
    "deletable": false,
    "editable": false
   },
   "source": [
    "<!-- BEGIN QUESTION -->\n",
    "\n",
    "**Question - what made a bigger difference to the growth rate: reducing mortality rates or increasing fertility rates?**\n",
    "<!--\n",
    "BEGIN QUESTION\n",
    "name: q_comment_uganda_mortvsfert\n",
    "points: 2\n",
    "manual: true\n",
    "-->"
   ]
  },
  {
   "cell_type": "markdown",
   "id": "instructional-acoustic",
   "metadata": {},
   "source": [
    "_Type your answer here, replacing this text._"
   ]
  },
  {
   "cell_type": "markdown",
   "metadata": {},
   "source": [
    "<!-- END QUESTION -->\n",
    "\n",
    "\n",
    "\n",
    "## Part II: Synthesizing in- and out-migration"
   ]
  },
  {
   "cell_type": "markdown",
   "metadata": {},
   "source": [
    "In Lab 07, we looked at migration within the United States. We came up with two ways to measure migration for a particular county: the in-migration rate and the out-migration rate.\n",
    "\n",
    "In this part of the homework, we're going to extend this analysis by trying to synthesize in-migration and out-migration for a given county.\n",
    "\n",
    "I've created a library that has the code that we developed in Lab 07 for convenience; it's called `mig`. Let's load it now:"
   ]
  },
  {
   "cell_type": "code",
   "execution_count": 27,
   "metadata": {},
   "outputs": [],
   "source": [
    "import mig"
   ]
  },
  {
   "cell_type": "markdown",
   "metadata": {},
   "source": [
    "(Don't worry if you get a warrning and some red text from matplotlib.)   \n",
    "The `mig` library has the `map_counties` function, which we'll use a little later."
   ]
  },
  {
   "cell_type": "markdown",
   "metadata": {},
   "source": [
    "In Lab 07, we made `in_migrants` and `out_migrants` Tables. We saved versions of these files to avoid having to repeat all of the analysis from Lab 07 for this homework. Let's load the files now:"
   ]
  },
  {
   "cell_type": "code",
   "execution_count": 29,
   "metadata": {},
   "outputs": [],
   "source": [
    "out_migrants = Table.read_table('data/out_migrants.csv')\n",
    "out_migrants"
   ]
  },
  {
   "cell_type": "code",
   "execution_count": 30,
   "metadata": {},
   "outputs": [],
   "source": [
    "in_migrants = Table.read_table('data/in_migrants.csv')\n",
    "in_migrants"
   ]
  },
  {
   "cell_type": "markdown",
   "metadata": {},
   "source": [
    "Recall that, for out migrants, `omr` is the out migration rate and for in-migrants, `imr` is the in-migration rate."
   ]
  },
  {
   "cell_type": "markdown",
   "metadata": {},
   "source": [
    "### Net migration rates"
   ]
  },
  {
   "cell_type": "markdown",
   "metadata": {},
   "source": [
    "One way to synthesize in- and out-migration rates is to define a *net migration rate*:\n",
    "\n",
    "$$\n",
    "\\text{Net-Migration Rate (NMR)} = \\frac{\\text{# people moving into county} - \\text{# people moving out of county}}{\\text{# people in county}}.\n",
    "$$\n",
    "\n",
    "(You'll notice that this is also equal to the in-migration rate minus the out-migration rate.)\n",
    "\n",
    "The net migration rate is helpful because it tells us whether, overall, migration is increasing or decreasing the county population. Counties with a negative net migration rate are losing residents, while counties with a positive net migration rate are gaining residents.\n"
   ]
  },
  {
   "cell_type": "markdown",
   "metadata": {
    "deletable": false,
    "editable": false
   },
   "source": [
    "**Question - Join the `out_migrants` and `in_migrants` tables together to produce a table that has `omr` and `imr` for each county.**\n",
    "<!--\n",
    "BEGIN QUESTION\n",
    "name: q_create_net_migrants\n",
    "points: 2\n",
    "-->"
   ]
  },
  {
   "cell_type": "code",
   "execution_count": 32,
   "metadata": {},
   "outputs": [],
   "source": [
    "net_migrants = ...\n",
    "net_migrants"
   ]
  },
  {
   "cell_type": "code",
   "execution_count": null,
   "id": "dirty-broadcast",
   "metadata": {
    "deletable": false,
    "editable": false
   },
   "outputs": [],
   "source": [
    "grader.check(\"q_create_net_migrants\")"
   ]
  },
  {
   "cell_type": "markdown",
   "metadata": {
    "deletable": false,
    "editable": false
   },
   "source": [
    "**Question - Add a column to the `net_migrants` table with the net migration rate; you should call the new column `nmr`.**\n",
    "<!--\n",
    "BEGIN QUESTION\n",
    "name: q_nmr\n",
    "points: 3\n",
    "-->"
   ]
  },
  {
   "cell_type": "code",
   "execution_count": 36,
   "metadata": {},
   "outputs": [],
   "source": [
    "net_migrants = ...\n",
    "net_migrants"
   ]
  },
  {
   "cell_type": "code",
   "execution_count": null,
   "id": "controversial-hygiene",
   "metadata": {
    "deletable": false,
    "editable": false
   },
   "outputs": [],
   "source": [
    "grader.check(\"q_nmr\")"
   ]
  },
  {
   "cell_type": "markdown",
   "metadata": {
    "deletable": false,
    "editable": false
   },
   "source": [
    "<!-- BEGIN QUESTION -->\n",
    "\n",
    "**Question - Make a histogram that shows the distribution of net migration rates across all of the counties in the dataset.**\n",
    "<!--\n",
    "BEGIN QUESTION\n",
    "name: q_nmr_hist\n",
    "points: 2\n",
    "manual: true\n",
    "-->"
   ]
  },
  {
   "cell_type": "code",
   "execution_count": 78,
   "metadata": {},
   "outputs": [],
   "source": [
    "..."
   ]
  },
  {
   "cell_type": "markdown",
   "metadata": {},
   "source": [
    "<!-- END QUESTION -->\n",
    "\n",
    "\n",
    "\n",
    "Your histogram should reveal that most counties have net migration rates that are pretty close to zero, and that the distribution is pretty symmetric."
   ]
  },
  {
   "cell_type": "markdown",
   "metadata": {},
   "source": [
    "Now we'll try to understand which countries have high and low net migration rates."
   ]
  },
  {
   "cell_type": "markdown",
   "metadata": {
    "deletable": false,
    "editable": false
   },
   "source": [
    "**Question - write some code to show the rows in `net_migrants` corresponding to the three counties that have the lowest net migration rates?**\n",
    "<!--\n",
    "BEGIN QUESTION\n",
    "name: q_bottom3_nmr\n",
    "points: 3\n",
    "-->"
   ]
  },
  {
   "cell_type": "code",
   "execution_count": 44,
   "metadata": {},
   "outputs": [],
   "source": [
    "bottom3_nmr = ...\n",
    "bottom3_nmr"
   ]
  },
  {
   "cell_type": "code",
   "execution_count": null,
   "id": "fewer-painting",
   "metadata": {
    "deletable": false,
    "editable": false
   },
   "outputs": [],
   "source": [
    "grader.check(\"q_bottom3_nmr\")"
   ]
  },
  {
   "cell_type": "markdown",
   "id": "received-prediction",
   "metadata": {},
   "source": [
    "_Type your answer here, replacing this text._"
   ]
  },
  {
   "cell_type": "markdown",
   "metadata": {
    "deletable": false,
    "editable": false
   },
   "source": [
    "**Question - which counties have highest net migration rates?**\n",
    "<!--\n",
    "BEGIN QUESTION\n",
    "name: q_top3_nmr\n",
    "points: 3\n",
    "-->"
   ]
  },
  {
   "cell_type": "code",
   "execution_count": 52,
   "metadata": {},
   "outputs": [],
   "source": [
    "top3_nmr = ...\n",
    "top3_nmr"
   ]
  },
  {
   "cell_type": "code",
   "execution_count": null,
   "id": "wired-journalist",
   "metadata": {
    "deletable": false,
    "editable": false
   },
   "outputs": [],
   "source": [
    "grader.check(\"q_top3_nmr\")"
   ]
  },
  {
   "cell_type": "markdown",
   "id": "welcome-slovenia",
   "metadata": {},
   "source": [
    "_Type your answer here, replacing this text._"
   ]
  },
  {
   "cell_type": "markdown",
   "metadata": {
    "deletable": false,
    "editable": false
   },
   "source": [
    "<!-- BEGIN QUESTION -->\n",
    "\n",
    "**Question - Make a scatterplot that compares each county's population (x axis) to its net migration rate (y axis)**\n",
    "<!--\n",
    "BEGIN QUESTION\n",
    "name: q_nmr_popn_scatterplot\n",
    "points: 2\n",
    "manual: true\n",
    "-->"
   ]
  },
  {
   "cell_type": "code",
   "execution_count": 57,
   "metadata": {},
   "outputs": [],
   "source": [
    "..."
   ]
  },
  {
   "cell_type": "markdown",
   "metadata": {
    "deletable": false,
    "editable": false
   },
   "source": [
    "<!-- END QUESTION -->\n",
    "\n",
    "<!-- BEGIN QUESTION -->\n",
    "\n",
    "**Question - What does the scatterplot lead you to conclude about the relationship between how extreme net migration rates are and the size of each county?**\n",
    "<!--\n",
    "BEGIN QUESTION\n",
    "name: q_comment_nmr_popn\n",
    "points: 2\n",
    "manual: true\n",
    "-->"
   ]
  },
  {
   "cell_type": "markdown",
   "id": "employed-thesis",
   "metadata": {},
   "source": [
    "_Type your answer here, replacing this text._"
   ]
  },
  {
   "cell_type": "markdown",
   "metadata": {
    "deletable": false,
    "editable": false
   },
   "source": [
    "<!-- END QUESTION -->\n",
    "\n",
    "<!-- BEGIN QUESTION -->\n",
    "\n",
    "**Question - Make a map of net migration rates**   \n",
    "*[NOTE: some counties which have little data will not show up on your map]*\n",
    "<!--\n",
    "BEGIN QUESTION\n",
    "name: q_nmr_map\n",
    "points: 2\n",
    "manual: true\n",
    "-->"
   ]
  },
  {
   "cell_type": "code",
   "execution_count": 58,
   "metadata": {},
   "outputs": [],
   "source": [
    "..."
   ]
  },
  {
   "cell_type": "markdown",
   "metadata": {},
   "source": [
    "<!-- END QUESTION -->\n",
    "\n",
    "\n",
    "\n",
    "### Population turnover "
   ]
  },
  {
   "cell_type": "markdown",
   "metadata": {},
   "source": [
    "The net migration rate tells us how in-migration and out-migration balance out to affect population size. But there is another way to synthesize in- and out-migration rates that we will call *population turnover*:\n",
    "\n",
    "$$\n",
    "\\text{Population turnover rate (PTR)} = \\frac{\\text{# people moving into county} + \\text{# people moving out of county}}{\\text{# people in county}}.\n",
    "$$\n",
    "\n",
    "(You'll notice that this is also equal to the in-migration rate plus the out-migration rate.)\n",
    "\n",
    "The population turnover rate tells us how much movement there is into and out of the county, without worrying about whether this movement ends up increasing or decreasing the size of the population."
   ]
  },
  {
   "cell_type": "markdown",
   "metadata": {
    "deletable": false,
    "editable": false
   },
   "source": [
    "<!-- BEGIN QUESTION -->\n",
    "\n",
    "**Question - Give an example of a situation in which two counties might have the same net migration rate of 0, but different population turnover rates.**\n",
    "<!--\n",
    "BEGIN QUESTION\n",
    "name: q_comment_nmr_turnover\n",
    "points: 2\n",
    "manual: true\n",
    "-->"
   ]
  },
  {
   "cell_type": "markdown",
   "id": "brutal-cyprus",
   "metadata": {},
   "source": [
    "_Type your answer here, replacing this text._"
   ]
  },
  {
   "cell_type": "markdown",
   "metadata": {
    "deletable": false,
    "editable": false
   },
   "source": [
    "<!-- END QUESTION -->\n",
    "\n",
    "**Question - Add a new column to your `net_migrants` dataset that has population turnover; call the column `ptr`.**\n",
    "<!--\n",
    "BEGIN QUESTION\n",
    "name: q_ptr\n",
    "points: 3\n",
    "-->"
   ]
  },
  {
   "cell_type": "code",
   "execution_count": 60,
   "metadata": {
    "scrolled": true
   },
   "outputs": [],
   "source": [
    "net_migrants = ...\n",
    "net_migrants"
   ]
  },
  {
   "cell_type": "code",
   "execution_count": null,
   "id": "pacific-prevention",
   "metadata": {
    "deletable": false,
    "editable": false
   },
   "outputs": [],
   "source": [
    "grader.check(\"q_ptr\")"
   ]
  },
  {
   "cell_type": "markdown",
   "metadata": {
    "deletable": false,
    "editable": false
   },
   "source": [
    "<!-- BEGIN QUESTION -->\n",
    "\n",
    "**Question - Make a map of population turnover rates**   \n",
    "*[NOTE: some counties which have little data will not show up on your map]*\n",
    "<!--\n",
    "BEGIN QUESTION\n",
    "name: q_ptr_map\n",
    "points: 2\n",
    "manual: true\n",
    "-->"
   ]
  },
  {
   "cell_type": "code",
   "execution_count": 62,
   "metadata": {},
   "outputs": [],
   "source": [
    "..."
   ]
  },
  {
   "cell_type": "markdown",
   "metadata": {},
   "source": [
    "<!-- END QUESTION -->\n",
    "\n",
    "\n",
    "\n",
    "Let's see if there appears to be any relationship between population turnover and net migration: do places with more change also tend to experience a net loss or gain of people?"
   ]
  },
  {
   "cell_type": "markdown",
   "metadata": {
    "deletable": false,
    "editable": false
   },
   "source": [
    "<!-- BEGIN QUESTION -->\n",
    "\n",
    "**Question - Make a scatterplot comparing the population turnover rate (x axis) and the net migration rate (y axis) across all counties in the datset.**\n",
    "<!--\n",
    "BEGIN QUESTION\n",
    "name: q_scatter_nmr_ptr\n",
    "points: 2\n",
    "manual: true\n",
    "-->"
   ]
  },
  {
   "cell_type": "code",
   "execution_count": 63,
   "metadata": {},
   "outputs": [],
   "source": [
    "..."
   ]
  },
  {
   "cell_type": "markdown",
   "metadata": {},
   "source": [
    "<!-- END QUESTION -->\n",
    "\n",
    "\n",
    "\n",
    "It can be helpful to summarize the relationship shown in the scatterplot above with a single number. We'll use the correlation coefficient to do so. We haven't talked about the correlation coefficient in our class, but it was discussed in Data 8; briefly, the correlation coefficient summarizes the strength of the linear relationship between two variables: when the correlation coefficient is close to -1, the two variables have a very strong negative relationship; when the correlation coefficient is close to +1, the two variables have a very strong positive relationship; and when the correlation coefficients is near 0, the two variables are not related.\n",
    "\n",
    "We'll use code from the Data 8 textbook to help calculate the correlation coefficient:"
   ]
  },
  {
   "cell_type": "code",
   "execution_count": 64,
   "metadata": {},
   "outputs": [],
   "source": [
    "## from Data 8 textbook:\n",
    "### https://www.inferentialthinking.com/chapters/15/2/Regression_Line.html\n",
    "def standard_units(xyz):\n",
    "    \"Convert any array of numbers to standard units.\"\n",
    "    return (xyz - np.mean(xyz))/np.std(xyz)  \n",
    "\n",
    "def correlation(t, label_x, label_y):\n",
    "    return np.mean(standard_units(t.column(label_x))*standard_units(t.column(label_y)))"
   ]
  },
  {
   "cell_type": "markdown",
   "metadata": {
    "deletable": false,
    "editable": false
   },
   "source": [
    "**Question - Calculate the correlation between the net migration rate and the population turnover rate.**\n",
    "<!--\n",
    "BEGIN QUESTION\n",
    "name: q_ptr_corr\n",
    "points: 1\n",
    "-->"
   ]
  },
  {
   "cell_type": "code",
   "execution_count": 65,
   "metadata": {},
   "outputs": [],
   "source": [
    "nmr_ptr_corr = ...\n",
    "nmr_ptr_corr"
   ]
  },
  {
   "cell_type": "code",
   "execution_count": null,
   "id": "industrial-pharmacy",
   "metadata": {
    "deletable": false,
    "editable": false
   },
   "outputs": [],
   "source": [
    "grader.check(\"q_ptr_corr\")"
   ]
  },
  {
   "cell_type": "markdown",
   "metadata": {
    "deletable": false,
    "editable": false
   },
   "source": [
    "<!-- BEGIN QUESTION -->\n",
    "\n",
    "**Question - What does the correlation coefficient suggest about the relationship between turnover and net migration across US counties?**\n",
    "<!--\n",
    "BEGIN QUESTION\n",
    "name: q_comment_ptr_nmr_corr\n",
    "points: 2\n",
    "manual: true\n",
    "-->"
   ]
  },
  {
   "cell_type": "markdown",
   "id": "coral-adelaide",
   "metadata": {},
   "source": [
    "_Type your answer here, replacing this text._"
   ]
  },
  {
   "cell_type": "markdown",
   "metadata": {},
   "source": [
    "<!-- END QUESTION -->\n",
    "\n",
    "\n",
    "\n",
    "Note that a more careful analysis, which we'll have to leave for the future, would try to account for the fact that smaller counties tend to have more extreme NMR and PTR values."
   ]
  },
  {
   "cell_type": "markdown",
   "id": "isolated-fields",
   "metadata": {
    "deletable": false,
    "editable": false
   },
   "source": [
    "---\n",
    "\n",
    "To double-check your work, the cell below will rerun all of the autograder tests."
   ]
  },
  {
   "cell_type": "code",
   "execution_count": null,
   "id": "fresh-cleveland",
   "metadata": {
    "deletable": false,
    "editable": false
   },
   "outputs": [],
   "source": [
    "grader.check_all()"
   ]
  },
  {
   "cell_type": "markdown",
   "id": "chronic-delight",
   "metadata": {
    "deletable": false,
    "editable": false
   },
   "source": [
    "## Submission\n",
    "\n",
    "Make sure you have run all cells in your notebook in order before running the cell below, so that all images/graphs appear in the output. The cell below will generate a zip file for you to submit. **Please save before exporting!**\n",
    "\n",
    "Please be sure to upload your submission to Gradescope."
   ]
  },
  {
   "cell_type": "code",
   "execution_count": null,
   "id": "better-benjamin",
   "metadata": {
    "deletable": false,
    "editable": false
   },
   "outputs": [],
   "source": [
    "# Save your notebook first, then run this cell to export your submission.\n",
    "grader.export()"
   ]
  },
  {
   "cell_type": "markdown",
   "id": "considerable-slide",
   "metadata": {},
   "source": [
    " "
   ]
  }
 ],
 "metadata": {
  "anaconda-cloud": {},
  "kernelspec": {
   "display_name": "Python 3",
   "language": "python",
   "name": "python3"
  },
  "language_info": {
   "codemirror_mode": {
    "name": "ipython",
    "version": 3
   },
   "file_extension": ".py",
   "mimetype": "text/x-python",
   "name": "python",
   "nbconvert_exporter": "python",
   "pygments_lexer": "ipython3",
   "version": "3.7.7"
  }
 },
 "nbformat": 4,
 "nbformat_minor": 1
}
